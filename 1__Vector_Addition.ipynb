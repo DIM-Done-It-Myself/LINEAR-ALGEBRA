{
  "nbformat": 4,
  "nbformat_minor": 0,
  "metadata": {
    "colab": {
      "provenance": []
    },
    "kernelspec": {
      "name": "python3",
      "display_name": "Python 3"
    },
    "language_info": {
      "name": "python"
    }
  },
  "cells": [
    {
      "cell_type": "markdown",
      "source": [
        "**Program 1: Vector Addition**"
      ],
      "metadata": {
        "id": "78gA-Oag6XFm"
      }
    },
    {
      "cell_type": "markdown",
      "source": [
        "**Type 1**"
      ],
      "metadata": {
        "id": "CCX_lfjR7uY6"
      }
    },
    {
      "cell_type": "code",
      "execution_count": 150,
      "metadata": {
        "colab": {
          "base_uri": "https://localhost:8080/"
        },
        "id": "yzBsXE7B54me",
        "outputId": "ac07d111-25af-485e-dc06-e6d807356ad4"
      },
      "outputs": [
        {
          "output_type": "stream",
          "name": "stdout",
          "text": [
            "[4 6]\n"
          ]
        }
      ],
      "source": [
        "# One-dimensional Array\n",
        "\n",
        "import numpy as np\n",
        "u = np.array([1, 2])\n",
        "v = np.array([3, 4])\n",
        "result = u + v\n",
        "print(result)"
      ]
    },
    {
      "cell_type": "code",
      "source": [
        "# Two-dimensional Array\n",
        "\n",
        "import numpy as np\n",
        "u = np.array([[1, 2], [3, 4]])\n",
        "v = np.array([[5, 6], [7, 8]])\n",
        "result = u + v\n",
        "print(result)"
      ],
      "metadata": {
        "colab": {
          "base_uri": "https://localhost:8080/"
        },
        "id": "yshcUZF-H4HZ",
        "outputId": "44a1698a-6a51-4d21-8704-951ac9a6720b"
      },
      "execution_count": 151,
      "outputs": [
        {
          "output_type": "stream",
          "name": "stdout",
          "text": [
            "[[ 6  8]\n",
            " [10 12]]\n"
          ]
        }
      ]
    },
    {
      "cell_type": "code",
      "source": [
        "# Three-dimensional Array\n",
        "\n",
        "import numpy as np\n",
        "u = np.array([[1, 2, 3, 5], [3, 4, 6, 8], [5, 6, 7, 10]])\n",
        "v = np.array([[5, 6, 7, 2], [7, 8, 10, 1], [9, 10, 11, 8]])\n",
        "result = u + v\n",
        "print(result)"
      ],
      "metadata": {
        "colab": {
          "base_uri": "https://localhost:8080/"
        },
        "id": "9eGJsZkh07Tm",
        "outputId": "a9d032d2-d69a-4ac4-ede3-2d658e07e50f"
      },
      "execution_count": 152,
      "outputs": [
        {
          "output_type": "stream",
          "name": "stdout",
          "text": [
            "[[ 6  8 10  7]\n",
            " [10 12 16  9]\n",
            " [14 16 18 18]]\n"
          ]
        }
      ]
    },
    {
      "cell_type": "code",
      "source": [
        "# Multidimensional Array\n",
        "\n",
        "import numpy as np\n",
        "u = np.array([[1, 2, 5, 6], [3, 4, 7, 8], [5, 6, 9, 10]])\n",
        "v = np.array([[7, 8, 7, 3], [9, 10, 15, 4], [11, 12, 18, 19]])\n",
        "result = u + v\n",
        "print(result)"
      ],
      "metadata": {
        "colab": {
          "base_uri": "https://localhost:8080/"
        },
        "id": "YKCSeIYZ4bPN",
        "outputId": "13b632fc-01d1-4e4b-c2df-b7f8bd78c396"
      },
      "execution_count": 153,
      "outputs": [
        {
          "output_type": "stream",
          "name": "stdout",
          "text": [
            "[[ 8 10 12  9]\n",
            " [12 14 22 12]\n",
            " [16 18 27 29]]\n"
          ]
        }
      ]
    },
    {
      "cell_type": "markdown",
      "source": [
        "**Type 2**"
      ],
      "metadata": {
        "id": "aD9GTX8-70KZ"
      }
    },
    {
      "cell_type": "markdown",
      "source": [
        "**One-Dimensional Array**"
      ],
      "metadata": {
        "id": "RfqE1eAVBvWo"
      }
    },
    {
      "cell_type": "code",
      "source": [
        "# importing the numPy for numerical computations\n",
        "import numpy as np"
      ],
      "metadata": {
        "id": "Bp4VDExt73Fk"
      },
      "execution_count": 154,
      "outputs": []
    },
    {
      "cell_type": "code",
      "source": [
        "# 1D array(vector) 'u' with elements [1, 2]\n",
        "# print the 1D matrix 'u'\n",
        "\n",
        "u = np.array([1, 2])\n",
        "print(u)"
      ],
      "metadata": {
        "colab": {
          "base_uri": "https://localhost:8080/"
        },
        "id": "SI9xPIeU_1wP",
        "outputId": "a07c77ca-630e-4473-c716-dfe912207c7c"
      },
      "execution_count": 155,
      "outputs": [
        {
          "output_type": "stream",
          "name": "stdout",
          "text": [
            "[1 2]\n"
          ]
        }
      ]
    },
    {
      "cell_type": "code",
      "source": [
        "# 1D array(vector) 'v' with elements [3, 4]\n",
        "# print the 1D matrix 'v'\n",
        "\n",
        "v = np.array([3, 4])\n",
        "print(v)"
      ],
      "metadata": {
        "colab": {
          "base_uri": "https://localhost:8080/"
        },
        "id": "q1Yme11_8B40",
        "outputId": "44b5ef75-f9ff-4538-874e-e01ac00e08a6"
      },
      "execution_count": 156,
      "outputs": [
        {
          "output_type": "stream",
          "name": "stdout",
          "text": [
            "[3 4]\n"
          ]
        }
      ]
    },
    {
      "cell_type": "code",
      "source": [
        "# Perform the vector addition of matrix 'u' and 'v'\n",
        "\n",
        "vector_add = u + v"
      ],
      "metadata": {
        "id": "SEvp1Al38JTQ"
      },
      "execution_count": 157,
      "outputs": []
    },
    {
      "cell_type": "code",
      "source": [
        "# print the result of the addition of two vectors\n",
        "\n",
        "print(vector_add)"
      ],
      "metadata": {
        "id": "Wrss2I9y8jYn",
        "outputId": "b067cf40-1406-47ac-ab93-dbf493d531f7",
        "colab": {
          "base_uri": "https://localhost:8080/"
        }
      },
      "execution_count": 158,
      "outputs": [
        {
          "output_type": "stream",
          "name": "stdout",
          "text": [
            "[4 6]\n"
          ]
        }
      ]
    },
    {
      "cell_type": "markdown",
      "source": [
        "**Type 3**"
      ],
      "metadata": {
        "id": "i5UUOO4mGRaf"
      }
    },
    {
      "cell_type": "markdown",
      "source": [
        "**Two-Dimenional Array**"
      ],
      "metadata": {
        "id": "gevppXpOB198"
      }
    },
    {
      "cell_type": "code",
      "source": [
        "# importing the numPy for numerical computations\n",
        "\n",
        "import numpy as np"
      ],
      "metadata": {
        "id": "gA12ZJdTB-S1"
      },
      "execution_count": 159,
      "outputs": []
    },
    {
      "cell_type": "code",
      "source": [
        "# 2D array(vector) 'u' with elements [[1, 2], [3, 4]]\n",
        "# print the 2D matrix 'u'\n",
        "\n",
        "u = np.array([[1, 2], [3, 4]])\n",
        "print(u)"
      ],
      "metadata": {
        "colab": {
          "base_uri": "https://localhost:8080/"
        },
        "id": "ZBqPkZ_WCNeV",
        "outputId": "333165bf-54fa-468a-9fdb-ec64952299be"
      },
      "execution_count": 160,
      "outputs": [
        {
          "output_type": "stream",
          "name": "stdout",
          "text": [
            "[[1 2]\n",
            " [3 4]]\n"
          ]
        }
      ]
    },
    {
      "cell_type": "code",
      "source": [
        "# 2D array(vector) 'v' with elements [[5, 6], [7, 8]]\n",
        "# print the 2D matrix 'v'\n",
        "\n",
        "v = np.array([[5, 6], [7, 8]])\n",
        "print(v)"
      ],
      "metadata": {
        "colab": {
          "base_uri": "https://localhost:8080/"
        },
        "id": "B6VMTbNQCz0O",
        "outputId": "831440e0-a297-412e-e19e-1e8351752c6c"
      },
      "execution_count": 161,
      "outputs": [
        {
          "output_type": "stream",
          "name": "stdout",
          "text": [
            "[[5 6]\n",
            " [7 8]]\n"
          ]
        }
      ]
    },
    {
      "cell_type": "code",
      "source": [
        "# Perform the vector addition of matrix 'u' and 'v'\n",
        "\n",
        "vector_add = (u + v)"
      ],
      "metadata": {
        "id": "e48Ycy4nDGBY"
      },
      "execution_count": 162,
      "outputs": []
    },
    {
      "cell_type": "code",
      "source": [
        "# print the result of the addition of two vectors\n",
        "\n",
        "print(vector_add)"
      ],
      "metadata": {
        "colab": {
          "base_uri": "https://localhost:8080/"
        },
        "id": "gH0tAlXsDa3L",
        "outputId": "5e0758e5-2ee5-426b-e118-d76b9a531f69"
      },
      "execution_count": 163,
      "outputs": [
        {
          "output_type": "stream",
          "name": "stdout",
          "text": [
            "[[ 6  8]\n",
            " [10 12]]\n"
          ]
        }
      ]
    },
    {
      "cell_type": "markdown",
      "source": [
        "**Three-Dimensional Array**"
      ],
      "metadata": {
        "id": "eAokXl8_1SJO"
      }
    },
    {
      "cell_type": "code",
      "source": [
        "# importing the numPy for numerical computations\n",
        "\n",
        "import numpy as np"
      ],
      "metadata": {
        "id": "SkyyYAxB1Y1W"
      },
      "execution_count": 164,
      "outputs": []
    },
    {
      "cell_type": "code",
      "source": [
        "# 3D array(vector) 'u' with elements [[1, 2, 3, 5], [3, 4, 6, 8], [5, 6, 7, 10]]\n",
        "# print the 3D matrix 'u'\n",
        "\n",
        "u = np.array([[1, 2, 3, 5], [3, 4, 6, 8], [5, 6, 7, 10]])\n",
        "print(u)"
      ],
      "metadata": {
        "colab": {
          "base_uri": "https://localhost:8080/"
        },
        "id": "fmTNryzC1dW9",
        "outputId": "9a811941-f04a-4618-e136-fa59b783505b"
      },
      "execution_count": 165,
      "outputs": [
        {
          "output_type": "stream",
          "name": "stdout",
          "text": [
            "[[ 1  2  3  5]\n",
            " [ 3  4  6  8]\n",
            " [ 5  6  7 10]]\n"
          ]
        }
      ]
    },
    {
      "cell_type": "code",
      "source": [
        "# 3D array(vector) 'v' with elements [[5, 6, 7, 2], [7, 8, 10, 1], [9, 10, 11, 8]]\n",
        "# print the 3D matrix 'v'\n",
        "\n",
        "v = np.array([[5, 6, 7, 2], [7, 8, 10, 1], [9, 10, 11, 8]])\n",
        "print(v)"
      ],
      "metadata": {
        "colab": {
          "base_uri": "https://localhost:8080/"
        },
        "id": "rjrX06UV1yTm",
        "outputId": "707eff29-877b-455d-8002-d2e49611f89b"
      },
      "execution_count": 166,
      "outputs": [
        {
          "output_type": "stream",
          "name": "stdout",
          "text": [
            "[[ 5  6  7  2]\n",
            " [ 7  8 10  1]\n",
            " [ 9 10 11  8]]\n"
          ]
        }
      ]
    },
    {
      "cell_type": "code",
      "source": [
        "# Perform the vector addition of matrix 'u' and 'v'\n",
        "\n",
        "vector_add = (u + v)"
      ],
      "metadata": {
        "id": "SAy4DT0u2C09"
      },
      "execution_count": 167,
      "outputs": []
    },
    {
      "cell_type": "code",
      "source": [
        "# print the result of the addition of two vectors\n",
        "\n",
        "print(vector_add)"
      ],
      "metadata": {
        "colab": {
          "base_uri": "https://localhost:8080/"
        },
        "id": "ceHB55Y32Fnd",
        "outputId": "358213ba-f8d5-411f-90fe-fc7d7669e8d1"
      },
      "execution_count": 168,
      "outputs": [
        {
          "output_type": "stream",
          "name": "stdout",
          "text": [
            "[[ 6  8 10  7]\n",
            " [10 12 16  9]\n",
            " [14 16 18 18]]\n"
          ]
        }
      ]
    },
    {
      "cell_type": "markdown",
      "source": [
        "**Multidimensional Arrays**"
      ],
      "metadata": {
        "id": "MkiCiBYe59lO"
      }
    },
    {
      "cell_type": "code",
      "source": [
        "# importing the numPy for numerical computations\n",
        "\n",
        "import numpy as np"
      ],
      "metadata": {
        "id": "01ArDkrp42p-"
      },
      "execution_count": 169,
      "outputs": []
    },
    {
      "cell_type": "code",
      "source": [
        "# Multidimensional array(vector) 'u' with elements [[1, 2, 5, 6], [3, 4, 7, 8], [5, 6, 9, 10]]\n",
        "# print the multidimensional matrix 'u'\n",
        "\n",
        "u = np.array([[1, 2, 5, 6], [3, 4, 7, 8], [5, 6, 9, 10]])\n",
        "print(u)"
      ],
      "metadata": {
        "colab": {
          "base_uri": "https://localhost:8080/"
        },
        "id": "1YwkOHg745ed",
        "outputId": "a4de74f3-7f7a-4c97-92af-e551ec8b12ca"
      },
      "execution_count": 170,
      "outputs": [
        {
          "output_type": "stream",
          "name": "stdout",
          "text": [
            "[[ 1  2  5  6]\n",
            " [ 3  4  7  8]\n",
            " [ 5  6  9 10]]\n"
          ]
        }
      ]
    },
    {
      "cell_type": "code",
      "source": [
        "# Multidimensional array(vector) 'v' with elements [[7, 8, 7, 3], [9, 10, 15, 4], [11, 12, 18, 19]]\n",
        "# print the multidimensional matrix 'v'\n",
        "\n",
        "v = np.array([[7, 8, 7, 3], [9, 10, 15, 4], [11, 12, 18, 19]])\n",
        "print(v)"
      ],
      "metadata": {
        "colab": {
          "base_uri": "https://localhost:8080/"
        },
        "id": "ktOGm1xl5j1v",
        "outputId": "1eec5a11-ad5a-46ee-9b80-5251806eca38"
      },
      "execution_count": 171,
      "outputs": [
        {
          "output_type": "stream",
          "name": "stdout",
          "text": [
            "[[ 7  8  7  3]\n",
            " [ 9 10 15  4]\n",
            " [11 12 18 19]]\n"
          ]
        }
      ]
    },
    {
      "cell_type": "code",
      "source": [
        "# Perform the vector addition of matrix 'u' and 'v'\n",
        "\n",
        "vector_add = (u + v)"
      ],
      "metadata": {
        "id": "NAJT5B2f53Ze"
      },
      "execution_count": 172,
      "outputs": []
    },
    {
      "cell_type": "code",
      "source": [
        "# print the result of the addition of two vectors\n",
        "\n",
        "print(vector_add)"
      ],
      "metadata": {
        "colab": {
          "base_uri": "https://localhost:8080/"
        },
        "id": "sfxXIx1s56L9",
        "outputId": "698abfd0-afb7-4c30-dd84-1f5f7189456a"
      },
      "execution_count": 173,
      "outputs": [
        {
          "output_type": "stream",
          "name": "stdout",
          "text": [
            "[[ 8 10 12  9]\n",
            " [12 14 22 12]\n",
            " [16 18 27 29]]\n"
          ]
        }
      ]
    }
  ]
}
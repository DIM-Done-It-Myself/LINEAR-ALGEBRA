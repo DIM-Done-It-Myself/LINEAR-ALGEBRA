{
  "nbformat": 4,
  "nbformat_minor": 0,
  "metadata": {
    "colab": {
      "provenance": []
    },
    "kernelspec": {
      "name": "python3",
      "display_name": "Python 3"
    },
    "language_info": {
      "name": "python"
    }
  },
  "cells": [
    {
      "cell_type": "markdown",
      "source": [
        "**Program 1: Vector Addition**"
      ],
      "metadata": {
        "id": "78gA-Oag6XFm"
      }
    },
    {
      "cell_type": "markdown",
      "source": [
        "**Type 1**"
      ],
      "metadata": {
        "id": "CCX_lfjR7uY6"
      }
    },
    {
      "cell_type": "code",
      "execution_count": null,
      "metadata": {
        "colab": {
          "base_uri": "https://localhost:8080/"
        },
        "id": "yzBsXE7B54me",
        "outputId": "d9c12c61-09b9-42aa-ce34-343d7bb2425d"
      },
      "outputs": [
        {
          "output_type": "stream",
          "name": "stdout",
          "text": [
            "[4 6]\n"
          ]
        }
      ],
      "source": [
        "import numpy as np\n",
        "u = np.array([1, 2])\n",
        "v = np.array([3, 4])\n",
        "result = u + v\n",
        "print(result)"
      ]
    },
    {
      "cell_type": "code",
      "source": [
        "import numpy as np\n",
        "u = np.array([[1, 2], [3, 4]])\n",
        "v = np.array([[5, 6], [7, 8]])\n",
        "result = u + v\n",
        "print(result)"
      ],
      "metadata": {
        "colab": {
          "base_uri": "https://localhost:8080/"
        },
        "id": "yshcUZF-H4HZ",
        "outputId": "de627305-bd7b-4f7b-83ca-85481ecff6ad"
      },
      "execution_count": 31,
      "outputs": [
        {
          "output_type": "stream",
          "name": "stdout",
          "text": [
            "[[ 6  8]\n",
            " [10 12]]\n"
          ]
        }
      ]
    },
    {
      "cell_type": "markdown",
      "source": [
        "**Type 2**"
      ],
      "metadata": {
        "id": "aD9GTX8-70KZ"
      }
    },
    {
      "cell_type": "markdown",
      "source": [
        "**One Dimensional Array**"
      ],
      "metadata": {
        "id": "RfqE1eAVBvWo"
      }
    },
    {
      "cell_type": "code",
      "source": [
        "# importing the numPy for numerical computations\n",
        "import numpy as np"
      ],
      "metadata": {
        "id": "Bp4VDExt73Fk"
      },
      "execution_count": 32,
      "outputs": []
    },
    {
      "cell_type": "code",
      "source": [
        "# 1D array(vector) 'u' with elements [1, 2]\n",
        "# print the 1D matrix 'u'\n",
        "\n",
        "u = np.array([1, 2])\n",
        "print(u)"
      ],
      "metadata": {
        "colab": {
          "base_uri": "https://localhost:8080/"
        },
        "id": "SI9xPIeU_1wP",
        "outputId": "cd9d2f27-a302-4e93-bd90-1ac2a0640883"
      },
      "execution_count": 33,
      "outputs": [
        {
          "output_type": "stream",
          "name": "stdout",
          "text": [
            "[1 2]\n"
          ]
        }
      ]
    },
    {
      "cell_type": "code",
      "source": [
        "# 1D array(vector) 'v' with elements [3, 4]\n",
        "# print the 1D matrix 'v'\n",
        "\n",
        "v = np.array([3, 4])\n",
        "print(v)"
      ],
      "metadata": {
        "colab": {
          "base_uri": "https://localhost:8080/"
        },
        "id": "q1Yme11_8B40",
        "outputId": "2be0e8fe-028f-4ed3-bd59-072f1a0fb668"
      },
      "execution_count": 34,
      "outputs": [
        {
          "output_type": "stream",
          "name": "stdout",
          "text": [
            "[3 4]\n"
          ]
        }
      ]
    },
    {
      "cell_type": "code",
      "source": [
        "# Perform the vector addition of matrix 'u' and 'v'\n",
        "\n",
        "vector_add = u + v"
      ],
      "metadata": {
        "id": "SEvp1Al38JTQ"
      },
      "execution_count": 35,
      "outputs": []
    },
    {
      "cell_type": "code",
      "source": [
        "# print the result of the addition of two vectors\n",
        "\n",
        "print(vector_add)"
      ],
      "metadata": {
        "id": "Wrss2I9y8jYn",
        "outputId": "6a4625ba-f4f0-4e41-b487-e8367e11aa61",
        "colab": {
          "base_uri": "https://localhost:8080/"
        }
      },
      "execution_count": 36,
      "outputs": [
        {
          "output_type": "stream",
          "name": "stdout",
          "text": [
            "[4 6]\n"
          ]
        }
      ]
    },
    {
      "cell_type": "markdown",
      "source": [
        "**Type 3**"
      ],
      "metadata": {
        "id": "i5UUOO4mGRaf"
      }
    },
    {
      "cell_type": "markdown",
      "source": [
        "**Two Dimenional Array**"
      ],
      "metadata": {
        "id": "gevppXpOB198"
      }
    },
    {
      "cell_type": "code",
      "source": [
        "# importing the numPy for numerical computations\n",
        "\n",
        "import numpy as np"
      ],
      "metadata": {
        "id": "gA12ZJdTB-S1"
      },
      "execution_count": 37,
      "outputs": []
    },
    {
      "cell_type": "code",
      "source": [
        "# 2D array(vector) 'u' with elements [[1, 2], [3, 4]]\n",
        "# print the 2D matrix 'u'\n",
        "\n",
        "u = np.array([[1, 2], [3, 4]])\n",
        "print(u)"
      ],
      "metadata": {
        "colab": {
          "base_uri": "https://localhost:8080/"
        },
        "id": "ZBqPkZ_WCNeV",
        "outputId": "80d08dd6-256d-492a-d349-9352c211fa0a"
      },
      "execution_count": 38,
      "outputs": [
        {
          "output_type": "stream",
          "name": "stdout",
          "text": [
            "[[1 2]\n",
            " [3 4]]\n"
          ]
        }
      ]
    },
    {
      "cell_type": "code",
      "source": [
        "# 2D array(vector) 'v' with elements [[5, 6], [7, 8]]\n",
        "# print the 2D matrix 'v'\n",
        "\n",
        "v = np.array([[5, 6], [7, 8]])\n",
        "print(v)"
      ],
      "metadata": {
        "colab": {
          "base_uri": "https://localhost:8080/"
        },
        "id": "B6VMTbNQCz0O",
        "outputId": "b83694a8-d0fc-4162-81a8-f93cb8e8f6e2"
      },
      "execution_count": 39,
      "outputs": [
        {
          "output_type": "stream",
          "name": "stdout",
          "text": [
            "[[5 6]\n",
            " [7 8]]\n"
          ]
        }
      ]
    },
    {
      "cell_type": "code",
      "source": [
        "# Perform the vector addition of matrix 'u' and 'v'\n",
        "\n",
        "vector_add = (u + v)"
      ],
      "metadata": {
        "id": "e48Ycy4nDGBY"
      },
      "execution_count": 40,
      "outputs": []
    },
    {
      "cell_type": "code",
      "source": [
        "# print the result of the addition of two vectors\n",
        "\n",
        "print(vector_add)"
      ],
      "metadata": {
        "colab": {
          "base_uri": "https://localhost:8080/"
        },
        "id": "gH0tAlXsDa3L",
        "outputId": "170415b2-da42-411d-a52f-af025b0f4a7e"
      },
      "execution_count": 41,
      "outputs": [
        {
          "output_type": "stream",
          "name": "stdout",
          "text": [
            "[[ 6  8]\n",
            " [10 12]]\n"
          ]
        }
      ]
    }
  ]
}
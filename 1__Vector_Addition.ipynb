{
  "nbformat": 4,
  "nbformat_minor": 0,
  "metadata": {
    "colab": {
      "provenance": []
    },
    "kernelspec": {
      "name": "python3",
      "display_name": "Python 3"
    },
    "language_info": {
      "name": "python"
    }
  },
  "cells": [
    {
      "cell_type": "markdown",
      "source": [
        "**Program 1: Vector Addition**"
      ],
      "metadata": {
        "id": "78gA-Oag6XFm"
      }
    },
    {
      "cell_type": "markdown",
      "source": [
        "**Type 1**"
      ],
      "metadata": {
        "id": "CCX_lfjR7uY6"
      }
    },
    {
      "cell_type": "code",
      "execution_count": 178,
      "metadata": {
        "colab": {
          "base_uri": "https://localhost:8080/"
        },
        "id": "yzBsXE7B54me",
        "outputId": "d5fc2ee4-f5a6-4ece-80e3-0864a0ce5348"
      },
      "outputs": [
        {
          "output_type": "stream",
          "name": "stdout",
          "text": [
            "[4 6]\n"
          ]
        }
      ],
      "source": [
        "# One-dimensional Array\n",
        "\n",
        "import numpy as np\n",
        "u = np.array([1, 2])\n",
        "v = np.array([3, 4])\n",
        "result = u + v\n",
        "print(result)"
      ]
    },
    {
      "cell_type": "code",
      "source": [
        "# Two-dimensional Array\n",
        "\n",
        "import numpy as np\n",
        "u = np.array([[1, 2], [3, 4]])\n",
        "v = np.array([[5, 6], [7, 8]])\n",
        "result = u + v\n",
        "print(result)"
      ],
      "metadata": {
        "colab": {
          "base_uri": "https://localhost:8080/"
        },
        "id": "yshcUZF-H4HZ",
        "outputId": "f84d172a-506d-4e81-e512-8f2861ac9c7a"
      },
      "execution_count": 179,
      "outputs": [
        {
          "output_type": "stream",
          "name": "stdout",
          "text": [
            "[[ 6  8]\n",
            " [10 12]]\n"
          ]
        }
      ]
    },
    {
      "cell_type": "code",
      "source": [
        "# Three-dimensional Array\n",
        "\n",
        "import numpy as np\n",
        "u = np.array([[1, 2, 3, 5], [3, 4, 6, 8]])\n",
        "v = np.array([[5, 6, 7, 2], [7, 8, 10, 1]])\n",
        "result = u + v\n",
        "print(result)"
      ],
      "metadata": {
        "colab": {
          "base_uri": "https://localhost:8080/"
        },
        "id": "9eGJsZkh07Tm",
        "outputId": "45e81179-b133-4402-8eea-26608750073b"
      },
      "execution_count": 180,
      "outputs": [
        {
          "output_type": "stream",
          "name": "stdout",
          "text": [
            "[[ 6  8 10  7]\n",
            " [10 12 16  9]]\n"
          ]
        }
      ]
    },
    {
      "cell_type": "code",
      "source": [
        "# Multidimensional Array\n",
        "\n",
        "import numpy as np\n",
        "u = np.array([[1, 2, 5, 6], [3, 4, 7, 8], [5, 6, 9, 10]])\n",
        "v = np.array([[7, 8, 7, 3], [9, 10, 15, 4], [11, 12, 18, 19]])\n",
        "result = u + v\n",
        "print(result)"
      ],
      "metadata": {
        "colab": {
          "base_uri": "https://localhost:8080/"
        },
        "id": "YKCSeIYZ4bPN",
        "outputId": "107798ae-34d8-4a25-bdf2-4e976bec40d7"
      },
      "execution_count": 181,
      "outputs": [
        {
          "output_type": "stream",
          "name": "stdout",
          "text": [
            "[[ 8 10 12  9]\n",
            " [12 14 22 12]\n",
            " [16 18 27 29]]\n"
          ]
        }
      ]
    },
    {
      "cell_type": "markdown",
      "source": [
        "**Type 2**"
      ],
      "metadata": {
        "id": "aD9GTX8-70KZ"
      }
    },
    {
      "cell_type": "markdown",
      "source": [
        "**One-Dimensional Array**"
      ],
      "metadata": {
        "id": "RfqE1eAVBvWo"
      }
    },
    {
      "cell_type": "code",
      "source": [
        "# importing the numPy for numerical computations\n",
        "\n",
        "import numpy as np"
      ],
      "metadata": {
        "id": "Bp4VDExt73Fk"
      },
      "execution_count": 182,
      "outputs": []
    },
    {
      "cell_type": "code",
      "source": [
        "# 1D array(vector) 'u' with elements [1, 2]\n",
        "# print the 1D matrix 'u'\n",
        "\n",
        "u = np.array([1, 2])\n",
        "print(u)"
      ],
      "metadata": {
        "colab": {
          "base_uri": "https://localhost:8080/"
        },
        "id": "SI9xPIeU_1wP",
        "outputId": "7ea0387e-a931-499c-edce-62643ad0f411"
      },
      "execution_count": 183,
      "outputs": [
        {
          "output_type": "stream",
          "name": "stdout",
          "text": [
            "[1 2]\n"
          ]
        }
      ]
    },
    {
      "cell_type": "code",
      "source": [
        "# 1D array(vector) 'v' with elements [3, 4]\n",
        "# print the 1D matrix 'v'\n",
        "\n",
        "v = np.array([3, 4])\n",
        "print(v)"
      ],
      "metadata": {
        "colab": {
          "base_uri": "https://localhost:8080/"
        },
        "id": "q1Yme11_8B40",
        "outputId": "0318f9be-1e20-447e-ed90-9ae0a7cc2f16"
      },
      "execution_count": 184,
      "outputs": [
        {
          "output_type": "stream",
          "name": "stdout",
          "text": [
            "[3 4]\n"
          ]
        }
      ]
    },
    {
      "cell_type": "code",
      "source": [
        "# Perform the vector addition of matrix 'u' and 'v'\n",
        "\n",
        "vector_add = u + v"
      ],
      "metadata": {
        "id": "SEvp1Al38JTQ"
      },
      "execution_count": 185,
      "outputs": []
    },
    {
      "cell_type": "code",
      "source": [
        "# print the result of the addition of two vectors\n",
        "\n",
        "print(vector_add)"
      ],
      "metadata": {
        "id": "Wrss2I9y8jYn",
        "outputId": "b9938916-46ed-4b96-e806-637e150c3f0b",
        "colab": {
          "base_uri": "https://localhost:8080/"
        }
      },
      "execution_count": 186,
      "outputs": [
        {
          "output_type": "stream",
          "name": "stdout",
          "text": [
            "[4 6]\n"
          ]
        }
      ]
    },
    {
      "cell_type": "markdown",
      "source": [
        "**Type 3**"
      ],
      "metadata": {
        "id": "i5UUOO4mGRaf"
      }
    },
    {
      "cell_type": "markdown",
      "source": [
        "**Two-Dimenional Array**"
      ],
      "metadata": {
        "id": "gevppXpOB198"
      }
    },
    {
      "cell_type": "code",
      "source": [
        "# importing the numPy for numerical computations\n",
        "\n",
        "import numpy as np"
      ],
      "metadata": {
        "id": "gA12ZJdTB-S1"
      },
      "execution_count": 187,
      "outputs": []
    },
    {
      "cell_type": "code",
      "source": [
        "# 2D array(vector) 'u' with elements [[1, 2], [3, 4]]\n",
        "# print the 2D matrix 'u'\n",
        "\n",
        "u = np.array([[1, 2], [3, 4]])\n",
        "print(u)"
      ],
      "metadata": {
        "colab": {
          "base_uri": "https://localhost:8080/"
        },
        "id": "ZBqPkZ_WCNeV",
        "outputId": "15e86511-b4ef-457c-928c-9bf210bc0453"
      },
      "execution_count": 188,
      "outputs": [
        {
          "output_type": "stream",
          "name": "stdout",
          "text": [
            "[[1 2]\n",
            " [3 4]]\n"
          ]
        }
      ]
    },
    {
      "cell_type": "code",
      "source": [
        "# 2D array(vector) 'v' with elements [[5, 6], [7, 8]]\n",
        "# print the 2D matrix 'v'\n",
        "\n",
        "v = np.array([[5, 6], [7, 8]])\n",
        "print(v)"
      ],
      "metadata": {
        "colab": {
          "base_uri": "https://localhost:8080/"
        },
        "id": "B6VMTbNQCz0O",
        "outputId": "51422473-f931-42fe-9cef-feddfc1d1371"
      },
      "execution_count": 189,
      "outputs": [
        {
          "output_type": "stream",
          "name": "stdout",
          "text": [
            "[[5 6]\n",
            " [7 8]]\n"
          ]
        }
      ]
    },
    {
      "cell_type": "code",
      "source": [
        "# Perform the vector addition of matrix 'u' and 'v'\n",
        "\n",
        "vector_add = (u + v)"
      ],
      "metadata": {
        "id": "e48Ycy4nDGBY"
      },
      "execution_count": 190,
      "outputs": []
    },
    {
      "cell_type": "code",
      "source": [
        "# print the result of the addition of two vectors\n",
        "\n",
        "print(vector_add)"
      ],
      "metadata": {
        "colab": {
          "base_uri": "https://localhost:8080/"
        },
        "id": "gH0tAlXsDa3L",
        "outputId": "d4cff07f-c826-4524-af7b-b22efd7b5282"
      },
      "execution_count": 191,
      "outputs": [
        {
          "output_type": "stream",
          "name": "stdout",
          "text": [
            "[[ 6  8]\n",
            " [10 12]]\n"
          ]
        }
      ]
    },
    {
      "cell_type": "markdown",
      "source": [
        "**Type 4**"
      ],
      "metadata": {
        "id": "Rqyq9792-TDm"
      }
    },
    {
      "cell_type": "markdown",
      "source": [
        "**Three-Dimensional Array**"
      ],
      "metadata": {
        "id": "eAokXl8_1SJO"
      }
    },
    {
      "cell_type": "code",
      "source": [
        "# importing the numPy for numerical computations\n",
        "\n",
        "import numpy as np"
      ],
      "metadata": {
        "id": "SkyyYAxB1Y1W"
      },
      "execution_count": 192,
      "outputs": []
    },
    {
      "cell_type": "code",
      "source": [
        "# 3D array(vector) 'u' with elements [[1, 2, 3, 5], [3, 4, 6, 8], [5, 6, 7, 10]]\n",
        "# print the 3D matrix 'u'\n",
        "\n",
        "u = np.array([[1, 2, 3, 5], [3, 4, 6, 8], [5, 6, 7, 10]])\n",
        "print(u)"
      ],
      "metadata": {
        "colab": {
          "base_uri": "https://localhost:8080/"
        },
        "id": "fmTNryzC1dW9",
        "outputId": "0e3b68b0-299e-43f2-e0e9-101a98ca1370"
      },
      "execution_count": 193,
      "outputs": [
        {
          "output_type": "stream",
          "name": "stdout",
          "text": [
            "[[ 1  2  3  5]\n",
            " [ 3  4  6  8]\n",
            " [ 5  6  7 10]]\n"
          ]
        }
      ]
    },
    {
      "cell_type": "code",
      "source": [
        "# 3D array(vector) 'v' with elements [[5, 6, 7, 2], [7, 8, 10, 1], [9, 10, 11, 8]]\n",
        "# print the 3D matrix 'v'\n",
        "\n",
        "v = np.array([[5, 6, 7, 2], [7, 8, 10, 1], [9, 10, 11, 8]])\n",
        "print(v)"
      ],
      "metadata": {
        "colab": {
          "base_uri": "https://localhost:8080/"
        },
        "id": "rjrX06UV1yTm",
        "outputId": "e1ec6a02-d03a-4b47-b6ef-040e2e7b91fe"
      },
      "execution_count": 194,
      "outputs": [
        {
          "output_type": "stream",
          "name": "stdout",
          "text": [
            "[[ 5  6  7  2]\n",
            " [ 7  8 10  1]\n",
            " [ 9 10 11  8]]\n"
          ]
        }
      ]
    },
    {
      "cell_type": "code",
      "source": [
        "# Perform the vector addition of matrix 'u' and 'v'\n",
        "\n",
        "vector_add = (u + v)"
      ],
      "metadata": {
        "id": "SAy4DT0u2C09"
      },
      "execution_count": 195,
      "outputs": []
    },
    {
      "cell_type": "code",
      "source": [
        "# print the result of the addition of two vectors\n",
        "\n",
        "print(vector_add)"
      ],
      "metadata": {
        "colab": {
          "base_uri": "https://localhost:8080/"
        },
        "id": "ceHB55Y32Fnd",
        "outputId": "1b6454aa-afed-494a-8cf6-e7d103819450"
      },
      "execution_count": 196,
      "outputs": [
        {
          "output_type": "stream",
          "name": "stdout",
          "text": [
            "[[ 6  8 10  7]\n",
            " [10 12 16  9]\n",
            " [14 16 18 18]]\n"
          ]
        }
      ]
    },
    {
      "cell_type": "markdown",
      "source": [
        "**Type 5**"
      ],
      "metadata": {
        "id": "YjlKrekK-WaT"
      }
    },
    {
      "cell_type": "markdown",
      "source": [
        "**Multidimensional Arrays**"
      ],
      "metadata": {
        "id": "MkiCiBYe59lO"
      }
    },
    {
      "cell_type": "code",
      "source": [
        "# importing the numPy for numerical computations\n",
        "\n",
        "import numpy as np"
      ],
      "metadata": {
        "id": "01ArDkrp42p-"
      },
      "execution_count": 197,
      "outputs": []
    },
    {
      "cell_type": "code",
      "source": [
        "# Multidimensional array(vector) 'u' with elements [[1, 2, 5, 6], [3, 4, 7, 8]]\n",
        "# print the multidimensional matrix 'u'\n",
        "\n",
        "u = np.array([[1, 2, 5, 6], [3, 4, 7, 8]])\n",
        "print(u)"
      ],
      "metadata": {
        "colab": {
          "base_uri": "https://localhost:8080/"
        },
        "id": "1YwkOHg745ed",
        "outputId": "d6d85ac6-326c-4384-9b9e-b717cdcefeb4"
      },
      "execution_count": 198,
      "outputs": [
        {
          "output_type": "stream",
          "name": "stdout",
          "text": [
            "[[1 2 5 6]\n",
            " [3 4 7 8]]\n"
          ]
        }
      ]
    },
    {
      "cell_type": "code",
      "source": [
        "# Multidimensional array(vector) 'v' with elements [[7, 8, 7, 3], [9, 10, 15, 4]]\n",
        "# print the multidimensional matrix 'v'\n",
        "\n",
        "v = np.array([[7, 8, 7, 3], [9, 10, 15, 4]])\n",
        "print(v)"
      ],
      "metadata": {
        "colab": {
          "base_uri": "https://localhost:8080/"
        },
        "id": "ktOGm1xl5j1v",
        "outputId": "e5d7c835-254f-4b83-8050-6c7609e4875b"
      },
      "execution_count": 199,
      "outputs": [
        {
          "output_type": "stream",
          "name": "stdout",
          "text": [
            "[[ 7  8  7  3]\n",
            " [ 9 10 15  4]]\n"
          ]
        }
      ]
    },
    {
      "cell_type": "code",
      "source": [
        "# Perform the vector addition of matrix 'u' and 'v'\n",
        "\n",
        "vector_add = (u + v)"
      ],
      "metadata": {
        "id": "NAJT5B2f53Ze"
      },
      "execution_count": 200,
      "outputs": []
    },
    {
      "cell_type": "code",
      "source": [
        "# print the result of the addition of two vectors\n",
        "\n",
        "print(vector_add)"
      ],
      "metadata": {
        "colab": {
          "base_uri": "https://localhost:8080/"
        },
        "id": "sfxXIx1s56L9",
        "outputId": "8c1210da-3c9f-4a5e-dfe5-9925fb9d22e4"
      },
      "execution_count": 201,
      "outputs": [
        {
          "output_type": "stream",
          "name": "stdout",
          "text": [
            "[[ 8 10 12  9]\n",
            " [12 14 22 12]]\n"
          ]
        }
      ]
    }
  ]
}
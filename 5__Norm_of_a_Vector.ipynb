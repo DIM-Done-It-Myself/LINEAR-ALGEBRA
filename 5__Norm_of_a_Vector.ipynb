{
  "nbformat": 4,
  "nbformat_minor": 0,
  "metadata": {
    "colab": {
      "provenance": []
    },
    "kernelspec": {
      "name": "python3",
      "display_name": "Python 3"
    },
    "language_info": {
      "name": "python"
    }
  },
  "cells": [
    {
      "cell_type": "markdown",
      "source": [
        "**Program 5: Norm of a Vector**"
      ],
      "metadata": {
        "id": "hYhtYDgfZFx8"
      }
    },
    {
      "cell_type": "markdown",
      "source": [
        "**Type 1**"
      ],
      "metadata": {
        "id": "hIssspL-ZLqs"
      }
    },
    {
      "cell_type": "code",
      "execution_count": 48,
      "metadata": {
        "colab": {
          "base_uri": "https://localhost:8080/"
        },
        "id": "LXiAYiLKY84I",
        "outputId": "aecce682-20b8-4a38-c250-336f6dfd2130"
      },
      "outputs": [
        {
          "output_type": "stream",
          "name": "stdout",
          "text": [
            "7.0710678118654755\n"
          ]
        }
      ],
      "source": [
        "# One-dimensional array\n",
        "\n",
        "import numpy as np\n",
        "vect_1D = np.array([3, 4, 5])\n",
        "norm_vec = np.linalg.norm(vect_1D)\n",
        "print(norm_vec)"
      ]
    },
    {
      "cell_type": "code",
      "source": [
        "# Two-dimensional array\n",
        "\n",
        "import numpy as np\n",
        "vect_2D = np.array([3, 4])\n",
        "norm_vec = np.linalg.norm(vect_2D)\n",
        "print(norm_vec)"
      ],
      "metadata": {
        "colab": {
          "base_uri": "https://localhost:8080/"
        },
        "id": "kfMThrfQc_a1",
        "outputId": "d5f0fced-0c71-4093-dcea-76863584fc6d"
      },
      "execution_count": 49,
      "outputs": [
        {
          "output_type": "stream",
          "name": "stdout",
          "text": [
            "5.0\n"
          ]
        }
      ]
    },
    {
      "cell_type": "code",
      "source": [
        "# Three-dimensional array\n",
        "\n",
        "import numpy as np\n",
        "vect_3D = np.array([1, 2, 3])\n",
        "norm_vec = np.linalg.norm(vect_3D)\n",
        "print(norm_vec)"
      ],
      "metadata": {
        "id": "e_j6XAzPdqKv",
        "colab": {
          "base_uri": "https://localhost:8080/"
        },
        "outputId": "6028ab95-6516-452c-ef88-5d58629241bc"
      },
      "execution_count": 50,
      "outputs": [
        {
          "output_type": "stream",
          "name": "stdout",
          "text": [
            "3.7416573867739413\n"
          ]
        }
      ]
    },
    {
      "cell_type": "markdown",
      "source": [
        "**Type 2**"
      ],
      "metadata": {
        "id": "5aK-LEaVZjgU"
      }
    },
    {
      "cell_type": "code",
      "source": [
        "# importing the numPy library for numerical computations\n",
        "\n",
        "import numpy as np"
      ],
      "metadata": {
        "id": "W6In0qQSZmM8"
      },
      "execution_count": 51,
      "outputs": []
    },
    {
      "cell_type": "code",
      "source": [
        "# define 1D array(vector) 'v' with elements [3, 4, 5]\n",
        "\n",
        "vect_1D = np.array([3, 4, 5])\n",
        "print(vect_1D)"
      ],
      "metadata": {
        "colab": {
          "base_uri": "https://localhost:8080/"
        },
        "id": "kFsyIkdDZyQM",
        "outputId": "ab3dd544-bd9c-4147-ece6-8bf9059da64d"
      },
      "execution_count": 52,
      "outputs": [
        {
          "output_type": "stream",
          "name": "stdout",
          "text": [
            "[3 4 5]\n"
          ]
        }
      ]
    },
    {
      "cell_type": "code",
      "source": [
        "# compute the magnitude of the vector 'v' (Euclidean norm)\n",
        "# Formula for the euclidean norm: ||v|| = sqrt(v[0]^2 + v[1]^2 + v[2]^2)\n",
        "\n",
        "norm_vec = np.linalg.norm(vect_1D)"
      ],
      "metadata": {
        "id": "SNsNVHpjaATN"
      },
      "execution_count": 53,
      "outputs": []
    },
    {
      "cell_type": "code",
      "source": [
        "# printing the result of the magnitude of the vector\n",
        "\n",
        "print(norm_vec)"
      ],
      "metadata": {
        "colab": {
          "base_uri": "https://localhost:8080/"
        },
        "id": "aC7F2Tetab5M",
        "outputId": "dfaf3d15-c987-40e3-d02c-577d6db85f76"
      },
      "execution_count": 54,
      "outputs": [
        {
          "output_type": "stream",
          "name": "stdout",
          "text": [
            "7.0710678118654755\n"
          ]
        }
      ]
    },
    {
      "cell_type": "markdown",
      "source": [
        "**Type 3**"
      ],
      "metadata": {
        "id": "dwZnylTdaogt"
      }
    },
    {
      "cell_type": "code",
      "source": [
        "# importing the numPy library for numerical computations\n",
        "\n",
        "import numpy as np"
      ],
      "metadata": {
        "id": "c4yualhBaqr1"
      },
      "execution_count": 55,
      "outputs": []
    },
    {
      "cell_type": "code",
      "source": [
        "# define 2D array(vector) 'v' with elements [3, 4]\n",
        "\n",
        "vect_2D = np.array([3, 4])\n",
        "print(vect_2D)"
      ],
      "metadata": {
        "id": "N8Js6MhOauuk",
        "colab": {
          "base_uri": "https://localhost:8080/"
        },
        "outputId": "46aa6a3d-a775-4186-bee7-2b7d9c338c0e"
      },
      "execution_count": 56,
      "outputs": [
        {
          "output_type": "stream",
          "name": "stdout",
          "text": [
            "[3 4]\n"
          ]
        }
      ]
    },
    {
      "cell_type": "code",
      "source": [
        "# compute the magnitude of the vector 'v' (Euclidean norm)\n",
        "# Formula for the euclidean norm: ||v|| = sqrt(v[0]^2 + v[1]^2)\n",
        "\n",
        "norm_vec = np.linalg.norm(vect_2D)"
      ],
      "metadata": {
        "id": "ruiSZKy9nVm5"
      },
      "execution_count": 57,
      "outputs": []
    },
    {
      "cell_type": "code",
      "source": [
        "# printing the result of the magnitude of the vector\n",
        "\n",
        "print(norm_vec)"
      ],
      "metadata": {
        "colab": {
          "base_uri": "https://localhost:8080/"
        },
        "id": "stAvm3MFnZe4",
        "outputId": "a29d17af-4931-4425-b0b4-037b9a69b72c"
      },
      "execution_count": 58,
      "outputs": [
        {
          "output_type": "stream",
          "name": "stdout",
          "text": [
            "5.0\n"
          ]
        }
      ]
    },
    {
      "cell_type": "markdown",
      "source": [
        "**Type 4**"
      ],
      "metadata": {
        "id": "ZgbPdidnnbXg"
      }
    },
    {
      "cell_type": "code",
      "source": [
        "# importing the numPy library for numerical computations\n",
        "\n",
        "import numpy as np"
      ],
      "metadata": {
        "id": "8lWCuKiknfoJ"
      },
      "execution_count": 59,
      "outputs": []
    },
    {
      "cell_type": "code",
      "source": [
        "# define 3D array(vector) 'v' with elements [1, 2, 3]\n",
        "\n",
        "vect_3D = np.array([1, 2, 3])\n",
        "print(vect_3D)"
      ],
      "metadata": {
        "colab": {
          "base_uri": "https://localhost:8080/"
        },
        "id": "dtdwsL--niZP",
        "outputId": "fc38af37-84f6-4c88-8045-e778f3ee3e62"
      },
      "execution_count": 60,
      "outputs": [
        {
          "output_type": "stream",
          "name": "stdout",
          "text": [
            "[1 2 3]\n"
          ]
        }
      ]
    },
    {
      "cell_type": "code",
      "source": [
        "# compute the magnitude of the vector 'v' (Euclidean norm)\n",
        "# Formula for the euclidean norm: ||v|| = sqrt(v[0]^2 + v[1]^2 + v[2]^2)\n",
        "\n",
        "norm_vec = np.linalg.norm(vect_3D)"
      ],
      "metadata": {
        "id": "qmhBWxz2nrWI"
      },
      "execution_count": 61,
      "outputs": []
    },
    {
      "cell_type": "code",
      "source": [
        "# printing the result of the magnitude of the vector\n",
        "\n",
        "print(norm_vec)"
      ],
      "metadata": {
        "colab": {
          "base_uri": "https://localhost:8080/"
        },
        "id": "K8fxRWPvnubQ",
        "outputId": "53f2382f-2f24-4b5c-9249-482616a638df"
      },
      "execution_count": 62,
      "outputs": [
        {
          "output_type": "stream",
          "name": "stdout",
          "text": [
            "3.7416573867739413\n"
          ]
        }
      ]
    }
  ]
}
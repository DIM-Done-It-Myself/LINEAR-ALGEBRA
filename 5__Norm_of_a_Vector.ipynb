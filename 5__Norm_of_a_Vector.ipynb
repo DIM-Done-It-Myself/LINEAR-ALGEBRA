{
  "nbformat": 4,
  "nbformat_minor": 0,
  "metadata": {
    "colab": {
      "provenance": []
    },
    "kernelspec": {
      "name": "python3",
      "display_name": "Python 3"
    },
    "language_info": {
      "name": "python"
    }
  },
  "cells": [
    {
      "cell_type": "markdown",
      "source": [
        "**Program 5: Norm of a Vector**"
      ],
      "metadata": {
        "id": "hYhtYDgfZFx8"
      }
    },
    {
      "cell_type": "markdown",
      "source": [
        "**Type 1**"
      ],
      "metadata": {
        "id": "hIssspL-ZLqs"
      }
    },
    {
      "cell_type": "code",
      "execution_count": 33,
      "metadata": {
        "colab": {
          "base_uri": "https://localhost:8080/"
        },
        "id": "LXiAYiLKY84I",
        "outputId": "7864c976-8ec5-4cb7-fb8b-099c1ac1ab8f"
      },
      "outputs": [
        {
          "output_type": "stream",
          "name": "stdout",
          "text": [
            "7.0710678118654755\n"
          ]
        }
      ],
      "source": [
        "# One-dimensional array\n",
        "\n",
        "import numpy as np\n",
        "vect_1D = np.array([3, 4, 5])\n",
        "norm_vec = np.linalg.norm(vect_1D)\n",
        "print(norm_vec)"
      ]
    },
    {
      "cell_type": "code",
      "source": [
        "# Two-dimensional array\n",
        "\n",
        "import numpy as np\n",
        "vect_2D = np.array([3, 4])\n",
        "norm_vec = np.linalg.norm(vect_2D)\n",
        "print(norm_vec)"
      ],
      "metadata": {
        "colab": {
          "base_uri": "https://localhost:8080/"
        },
        "id": "kfMThrfQc_a1",
        "outputId": "5fdfb699-7256-416b-e2c1-180668784a19"
      },
      "execution_count": 34,
      "outputs": [
        {
          "output_type": "stream",
          "name": "stdout",
          "text": [
            "5.0\n"
          ]
        }
      ]
    },
    {
      "cell_type": "code",
      "source": [
        "# Three-dimensional array\n",
        "\n",
        "import numpy as np\n",
        "vect_2D = np.array([1, 2, 3])\n",
        "norm_vec = np.linalg.norm(vect_2D)\n",
        "print(norm_vec)"
      ],
      "metadata": {
        "id": "e_j6XAzPdqKv",
        "colab": {
          "base_uri": "https://localhost:8080/"
        },
        "outputId": "15a379f6-df51-41d3-f1e9-c06b8746d11a"
      },
      "execution_count": 35,
      "outputs": [
        {
          "output_type": "stream",
          "name": "stdout",
          "text": [
            "3.7416573867739413\n"
          ]
        }
      ]
    },
    {
      "cell_type": "markdown",
      "source": [
        "**Type 2**"
      ],
      "metadata": {
        "id": "5aK-LEaVZjgU"
      }
    },
    {
      "cell_type": "code",
      "source": [
        "# importing the numPy library for numerical computations\n",
        "\n",
        "import numpy as np"
      ],
      "metadata": {
        "id": "W6In0qQSZmM8"
      },
      "execution_count": 36,
      "outputs": []
    },
    {
      "cell_type": "code",
      "source": [
        "# define 1D array(vector) 'v' with elements [3, 4, 5]\n",
        "\n",
        "vect_1D = np.array([3, 4, 5])\n",
        "print(vect_1D)"
      ],
      "metadata": {
        "colab": {
          "base_uri": "https://localhost:8080/"
        },
        "id": "kFsyIkdDZyQM",
        "outputId": "a531fdea-73c4-42ad-c503-4c1f2ea73da6"
      },
      "execution_count": 37,
      "outputs": [
        {
          "output_type": "stream",
          "name": "stdout",
          "text": [
            "[3 4 5]\n"
          ]
        }
      ]
    },
    {
      "cell_type": "code",
      "source": [
        "# compute the magnitude of the vector 'v' (Euclidean norm)\n",
        "# Formula for the euclidean norm: ||v|| = sqrt(v[0]^2 + v[1]^2 + v[2]^2)\n",
        "\n",
        "norm_vec = np.linalg.norm(vect_1D)"
      ],
      "metadata": {
        "id": "SNsNVHpjaATN"
      },
      "execution_count": 38,
      "outputs": []
    },
    {
      "cell_type": "code",
      "source": [
        "# printing the result of the magnitude of the vector\n",
        "\n",
        "print(norm_vec)"
      ],
      "metadata": {
        "colab": {
          "base_uri": "https://localhost:8080/"
        },
        "id": "aC7F2Tetab5M",
        "outputId": "d1b6de58-c878-42b8-cad8-c764cf7dc71a"
      },
      "execution_count": 39,
      "outputs": [
        {
          "output_type": "stream",
          "name": "stdout",
          "text": [
            "7.0710678118654755\n"
          ]
        }
      ]
    },
    {
      "cell_type": "markdown",
      "source": [
        "**Type 3**"
      ],
      "metadata": {
        "id": "dwZnylTdaogt"
      }
    },
    {
      "cell_type": "code",
      "source": [
        "# importing the numPy library for numerical computations\n",
        "\n",
        "import numpy as np"
      ],
      "metadata": {
        "id": "c4yualhBaqr1"
      },
      "execution_count": 40,
      "outputs": []
    },
    {
      "cell_type": "code",
      "source": [
        "# define 2D array(vector) 'v' with elements [3, 4]\n",
        "\n",
        "vect_2D = np.array([3, 4])\n",
        "print(vect_2D)"
      ],
      "metadata": {
        "id": "N8Js6MhOauuk",
        "colab": {
          "base_uri": "https://localhost:8080/"
        },
        "outputId": "5d2f29ee-fb53-4bbf-990d-3cdd22d71099"
      },
      "execution_count": 41,
      "outputs": [
        {
          "output_type": "stream",
          "name": "stdout",
          "text": [
            "[3 4]\n"
          ]
        }
      ]
    },
    {
      "cell_type": "code",
      "source": [
        "# compute the magnitude of the vector 'v' (Euclidean norm)\n",
        "# Formula for the euclidean norm: ||v|| = sqrt(v[0]^2 + v[1]^2)\n",
        "\n",
        "norm_vec = np.linalg.norm(vect_2D)"
      ],
      "metadata": {
        "id": "ruiSZKy9nVm5"
      },
      "execution_count": 42,
      "outputs": []
    },
    {
      "cell_type": "code",
      "source": [
        "# printing the result of the magnitude of the vector\n",
        "\n",
        "print(norm_vec)"
      ],
      "metadata": {
        "colab": {
          "base_uri": "https://localhost:8080/"
        },
        "id": "stAvm3MFnZe4",
        "outputId": "12bb5a74-560b-424b-f72a-636f16bf0f36"
      },
      "execution_count": 43,
      "outputs": [
        {
          "output_type": "stream",
          "name": "stdout",
          "text": [
            "5.0\n"
          ]
        }
      ]
    },
    {
      "cell_type": "markdown",
      "source": [
        "**Type 4**"
      ],
      "metadata": {
        "id": "ZgbPdidnnbXg"
      }
    },
    {
      "cell_type": "code",
      "source": [
        "# importing the numPy library for numerical computations\n",
        "\n",
        "import numpy as np"
      ],
      "metadata": {
        "id": "8lWCuKiknfoJ"
      },
      "execution_count": 44,
      "outputs": []
    },
    {
      "cell_type": "code",
      "source": [
        "# define 3D array(vector) 'v' with elements [1, 2, 3]\n",
        "\n",
        "vect_3D = np.array([1, 2, 3])\n",
        "print(vect_3D)"
      ],
      "metadata": {
        "colab": {
          "base_uri": "https://localhost:8080/"
        },
        "id": "dtdwsL--niZP",
        "outputId": "b08c3d3f-95aa-40ec-cf16-cc35396bbdba"
      },
      "execution_count": 45,
      "outputs": [
        {
          "output_type": "stream",
          "name": "stdout",
          "text": [
            "[1 2 3]\n"
          ]
        }
      ]
    },
    {
      "cell_type": "code",
      "source": [
        "# compute the magnitude of the vector 'v' (Euclidean norm)\n",
        "# Formula for the euclidean norm: ||v|| = sqrt(v[0]^2 + v[1]^2 + v[2]^2)\n",
        "\n",
        "norm_vec = np.linalg.norm(vect_3D)"
      ],
      "metadata": {
        "id": "qmhBWxz2nrWI"
      },
      "execution_count": 46,
      "outputs": []
    },
    {
      "cell_type": "code",
      "source": [
        "# printing the result of the magnitude of the vector\n",
        "\n",
        "print(norm_vec)"
      ],
      "metadata": {
        "colab": {
          "base_uri": "https://localhost:8080/"
        },
        "id": "K8fxRWPvnubQ",
        "outputId": "ed43d152-811d-4c57-bb28-6cf814211a57"
      },
      "execution_count": 47,
      "outputs": [
        {
          "output_type": "stream",
          "name": "stdout",
          "text": [
            "3.7416573867739413\n"
          ]
        }
      ]
    }
  ]
}
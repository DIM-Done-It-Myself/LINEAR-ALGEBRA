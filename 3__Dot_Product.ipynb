{
  "nbformat": 4,
  "nbformat_minor": 0,
  "metadata": {
    "colab": {
      "provenance": []
    },
    "kernelspec": {
      "name": "python3",
      "display_name": "Python 3"
    },
    "language_info": {
      "name": "python"
    }
  },
  "cells": [
    {
      "cell_type": "markdown",
      "source": [
        "**Program 3: Dot Product**"
      ],
      "metadata": {
        "id": "oOxZeMjzZANA"
      }
    },
    {
      "cell_type": "markdown",
      "source": [
        "**Type 1**"
      ],
      "metadata": {
        "id": "MDurQs98ZxaN"
      }
    },
    {
      "cell_type": "code",
      "execution_count": 68,
      "metadata": {
        "colab": {
          "base_uri": "https://localhost:8080/"
        },
        "id": "lALHqnJgYk_S",
        "outputId": "4420e98b-ca96-455b-dcf4-32b9090d6fc8"
      },
      "outputs": [
        {
          "output_type": "stream",
          "name": "stdout",
          "text": [
            "The dot product of the given matrix is:  11\n"
          ]
        }
      ],
      "source": [
        "import numpy as np\n",
        "u = np.array([1, 2])\n",
        "v = np.array([3, 4])\n",
        "dot_prod = np.dot(u, v)\n",
        "print('The dot product of the given matrix is: ', dot_prod)"
      ]
    },
    {
      "cell_type": "code",
      "source": [
        "import numpy as np\n",
        "u = np.array([[1, 2], [3, 4]])\n",
        "v = np.array([[5, 6], [7, 8]])\n",
        "dot_prod = np.dot(u, v)\n",
        "print('The dot product of the given matrix:', dot_prod)\n",
        "\n",
        "# Element-Wise Multiplication and Dot Product\n",
        "\n",
        "elementwise_dot = np.sum(np.multiply(u, v))\n",
        "print('Elementwise and dot product is: ', elementwise_dot)"
      ],
      "metadata": {
        "colab": {
          "base_uri": "https://localhost:8080/"
        },
        "id": "pvq1TKRCg14n",
        "outputId": "5673d6a2-c88f-480c-94f3-a72871b3e3ce"
      },
      "execution_count": 49,
      "outputs": [
        {
          "output_type": "stream",
          "name": "stdout",
          "text": [
            "The dot product of the given matrix: [[19 22]\n",
            " [43 50]]\n",
            "Elementwise and dot product is:  70\n"
          ]
        }
      ]
    },
    {
      "cell_type": "code",
      "source": [
        "import numpy as np\n",
        "u = np.array([[1, 2, 1], [3, 4, 2], [9, 6, 5]])\n",
        "v = np.array([[6, 1, 5], [8, 6, 4], [7, 5, 3]])\n",
        "dot_prod = np.dot(u, v)\n",
        "print('The dot product of the given matrix:', dot_prod)\n",
        "\n",
        "# Element-Wise Multiplication and Dot Product\n",
        "\n",
        "elementwise_dot = np.sum(np.multiply(u, v))\n",
        "print('Elementwise and dot product is: ', elementwise_dot)"
      ],
      "metadata": {
        "colab": {
          "base_uri": "https://localhost:8080/"
        },
        "id": "Bj0rUKepg5IK",
        "outputId": "817c0496-31f2-4251-8c8e-4a829e5ae431"
      },
      "execution_count": 50,
      "outputs": [
        {
          "output_type": "stream",
          "name": "stdout",
          "text": [
            "The dot product of the given matrix: [[ 29  18  16]\n",
            " [ 64  37  37]\n",
            " [137  70  84]]\n",
            "Elementwise and dot product is:  177\n"
          ]
        }
      ]
    },
    {
      "cell_type": "markdown",
      "source": [
        "**Type 2**"
      ],
      "metadata": {
        "id": "pfxLT4tUZ1Jj"
      }
    },
    {
      "cell_type": "code",
      "source": [
        "# importing the NumPy library for numerical operations\n",
        "\n",
        "import numpy as np"
      ],
      "metadata": {
        "id": "Ee3yNjaZZ3zz"
      },
      "execution_count": 51,
      "outputs": []
    },
    {
      "cell_type": "code",
      "source": [
        "# define 1D array(vector) 'u' with elements [1, 2]\n",
        "\n",
        "u = np.array([1, 2])\n",
        "print(u)"
      ],
      "metadata": {
        "colab": {
          "base_uri": "https://localhost:8080/"
        },
        "id": "tdndIfrLaFzs",
        "outputId": "c04d0349-bac3-42f3-94b8-c455080d2f35"
      },
      "execution_count": 52,
      "outputs": [
        {
          "output_type": "stream",
          "name": "stdout",
          "text": [
            "[1 2]\n"
          ]
        }
      ]
    },
    {
      "cell_type": "code",
      "source": [
        "# define 1D array(vector) 'v' with elements [3, 4]\n",
        "\n",
        "v = np.array([3, 4])\n",
        "print(v)"
      ],
      "metadata": {
        "colab": {
          "base_uri": "https://localhost:8080/"
        },
        "id": "AK-iwTZQaXkX",
        "outputId": "8ba5ee2a-cef4-4e07-c20d-374cd0627a3a"
      },
      "execution_count": 53,
      "outputs": [
        {
          "output_type": "stream",
          "name": "stdout",
          "text": [
            "[3 4]\n"
          ]
        }
      ]
    },
    {
      "cell_type": "code",
      "source": [
        "# compute the dot product of vectors 'u' and 'v'\n",
        "# Dot product formula: u.v = u[0] * v[0]\n",
        "\n",
        "dot_prod = np.dot(u, v)"
      ],
      "metadata": {
        "id": "_EKQCJtzamul"
      },
      "execution_count": 54,
      "outputs": []
    },
    {
      "cell_type": "code",
      "source": [
        "# print the resulting scalar value after completing the dot product\n",
        "\n",
        "print(dot_prod)"
      ],
      "metadata": {
        "colab": {
          "base_uri": "https://localhost:8080/"
        },
        "id": "XNe4INwebjGU",
        "outputId": "acceeb1c-6bab-472f-96ee-be7770d776a0"
      },
      "execution_count": 55,
      "outputs": [
        {
          "output_type": "stream",
          "name": "stdout",
          "text": [
            "11\n"
          ]
        }
      ]
    },
    {
      "cell_type": "markdown",
      "source": [
        "**Type 3**"
      ],
      "metadata": {
        "id": "Kif-U5UmcUcY"
      }
    },
    {
      "cell_type": "code",
      "source": [
        "# importing the NumPy library for numerical operations\n",
        "\n",
        "import numpy as np"
      ],
      "metadata": {
        "id": "B6AjSw11cXJp"
      },
      "execution_count": 56,
      "outputs": []
    },
    {
      "cell_type": "code",
      "source": [
        "# define 2D array(vector) 'u' with elements [[1, 2], [3, 4]]\n",
        "\n",
        "u = np.array([[1, 2], [3, 4]])\n",
        "print(u)"
      ],
      "metadata": {
        "colab": {
          "base_uri": "https://localhost:8080/"
        },
        "id": "cnV7HAZLcc6f",
        "outputId": "7892cc8c-68b7-490b-c139-b6dde9f6092a"
      },
      "execution_count": 57,
      "outputs": [
        {
          "output_type": "stream",
          "name": "stdout",
          "text": [
            "[[1 2]\n",
            " [3 4]]\n"
          ]
        }
      ]
    },
    {
      "cell_type": "code",
      "source": [
        "# define 2D array(vector) 'v' with elements [[5, 6], [7, 8]]\n",
        "\n",
        "v = np.array([[5, 6], [7, 8]])\n",
        "print(v)"
      ],
      "metadata": {
        "colab": {
          "base_uri": "https://localhost:8080/"
        },
        "id": "nXCJuKqYcxbf",
        "outputId": "a7c69b12-adca-417b-b30d-edeabd22e72e"
      },
      "execution_count": 58,
      "outputs": [
        {
          "output_type": "stream",
          "name": "stdout",
          "text": [
            "[[5 6]\n",
            " [7 8]]\n"
          ]
        }
      ]
    },
    {
      "cell_type": "code",
      "source": [
        "# compute the dot product of vectors 'u' and 'v'\n",
        "# Dot product formula: u.v = (v[0] * u[0] +  v[1] * u[1])\n",
        "\n",
        "dot_prod = np.dot(u, v)"
      ],
      "metadata": {
        "id": "YN74Z0Zyc-XX"
      },
      "execution_count": 59,
      "outputs": []
    },
    {
      "cell_type": "code",
      "source": [
        "# print the resulting scalar value after completing the dot product\n",
        "\n",
        "print(dot_prod)"
      ],
      "metadata": {
        "colab": {
          "base_uri": "https://localhost:8080/"
        },
        "id": "3TsWUjIMdGHx",
        "outputId": "86a68a35-aeae-4ffc-c5a7-54373dabe401"
      },
      "execution_count": 60,
      "outputs": [
        {
          "output_type": "stream",
          "name": "stdout",
          "text": [
            "[[19 22]\n",
            " [43 50]]\n"
          ]
        }
      ]
    },
    {
      "cell_type": "code",
      "source": [
        "# Element-Wise Multiplication and Dot Product\n",
        "\n",
        "elementwise_dot = np.sum(np.multiply(u, v))\n",
        "print('Elementwise and dot product is: ', elementwise_dot)"
      ],
      "metadata": {
        "colab": {
          "base_uri": "https://localhost:8080/"
        },
        "id": "bL16tQiEjqdU",
        "outputId": "c68e7183-5b48-4f54-a091-ae5a5f30e624"
      },
      "execution_count": 61,
      "outputs": [
        {
          "output_type": "stream",
          "name": "stdout",
          "text": [
            "Elementwise and dot product is:  70\n"
          ]
        }
      ]
    },
    {
      "cell_type": "markdown",
      "source": [
        "**Type 4**"
      ],
      "metadata": {
        "id": "xmT09w2YdQex"
      }
    },
    {
      "cell_type": "code",
      "source": [
        "# importing the NumPy library for numerical operations\n",
        "\n",
        "import numpy as np"
      ],
      "metadata": {
        "id": "cbrUDtAAdUo4"
      },
      "execution_count": 62,
      "outputs": []
    },
    {
      "cell_type": "code",
      "source": [
        "# define 3D array(vector) 'u' with elements [[1, 2, 1], [3, 4, 2], [9, 6, 5]]\n",
        "\n",
        "u = np.array([[1, 2, 1], [3, 4, 2], [9, 6, 5]])\n",
        "print(u)"
      ],
      "metadata": {
        "colab": {
          "base_uri": "https://localhost:8080/"
        },
        "id": "LI6BXd59db1c",
        "outputId": "7821a7c8-cb45-44a9-f1d8-197a336adbf6"
      },
      "execution_count": 63,
      "outputs": [
        {
          "output_type": "stream",
          "name": "stdout",
          "text": [
            "[[1 2 1]\n",
            " [3 4 2]\n",
            " [9 6 5]]\n"
          ]
        }
      ]
    },
    {
      "cell_type": "code",
      "source": [
        "# define 3D array(vector) 'v' with elements [[6, 1, 5], [8, 6, 4], [7, 5, 3]]\n",
        "\n",
        "v = np.array([[6, 1, 5], [8, 6, 4], [7, 5, 3]])\n",
        "print(v)"
      ],
      "metadata": {
        "colab": {
          "base_uri": "https://localhost:8080/"
        },
        "id": "McKisu5wdqYo",
        "outputId": "afc78da0-1811-4504-8a0c-b0a965ebaa2f"
      },
      "execution_count": 64,
      "outputs": [
        {
          "output_type": "stream",
          "name": "stdout",
          "text": [
            "[[6 1 5]\n",
            " [8 6 4]\n",
            " [7 5 3]]\n"
          ]
        }
      ]
    },
    {
      "cell_type": "code",
      "source": [
        "# compute the dot product of vectors 'u' and 'v'\n",
        "# Dot product formula: u.v = (u[0] * v[0]) + (u[1] * v[1]) + (u[2] * v[2])\n",
        "\n",
        "dot_prod = np.dot(u, v)"
      ],
      "metadata": {
        "id": "4htBC_2GeLia"
      },
      "execution_count": 65,
      "outputs": []
    },
    {
      "cell_type": "code",
      "source": [
        "# print the resulting scalar value after completing the dot product\n",
        "\n",
        "print(dot_prod)"
      ],
      "metadata": {
        "colab": {
          "base_uri": "https://localhost:8080/"
        },
        "id": "_V6K47mNePd9",
        "outputId": "16782ff0-e6e7-42b8-b05d-257f9f1fb660"
      },
      "execution_count": 66,
      "outputs": [
        {
          "output_type": "stream",
          "name": "stdout",
          "text": [
            "[[ 29  18  16]\n",
            " [ 64  37  37]\n",
            " [137  70  84]]\n"
          ]
        }
      ]
    },
    {
      "cell_type": "code",
      "source": [
        "# Element-Wise Multiplication and Dot Product\n",
        "\n",
        "elementwise_dot = np.sum(np.multiply(u, v))\n",
        "print('Elementwise and dot product is: ', elementwise_dot)"
      ],
      "metadata": {
        "colab": {
          "base_uri": "https://localhost:8080/"
        },
        "id": "x-PF-M3hjuo8",
        "outputId": "0cbb2aa9-2aff-4543-e6e3-c2ba4574aae7"
      },
      "execution_count": 67,
      "outputs": [
        {
          "output_type": "stream",
          "name": "stdout",
          "text": [
            "Elementwise and dot product is:  177\n"
          ]
        }
      ]
    }
  ]
}
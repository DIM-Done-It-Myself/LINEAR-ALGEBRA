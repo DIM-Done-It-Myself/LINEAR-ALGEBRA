{
  "nbformat": 4,
  "nbformat_minor": 0,
  "metadata": {
    "colab": {
      "provenance": []
    },
    "kernelspec": {
      "name": "python3",
      "display_name": "Python 3"
    },
    "language_info": {
      "name": "python"
    }
  },
  "cells": [
    {
      "cell_type": "markdown",
      "source": [
        "**Program 3: Dot Product**"
      ],
      "metadata": {
        "id": "oOxZeMjzZANA"
      }
    },
    {
      "cell_type": "markdown",
      "source": [
        "**Type 1**"
      ],
      "metadata": {
        "id": "MDurQs98ZxaN"
      }
    },
    {
      "cell_type": "code",
      "execution_count": 21,
      "metadata": {
        "colab": {
          "base_uri": "https://localhost:8080/"
        },
        "id": "lALHqnJgYk_S",
        "outputId": "19c38e60-54a9-4469-e98d-c977ef62d593"
      },
      "outputs": [
        {
          "output_type": "stream",
          "name": "stdout",
          "text": [
            "The dot product of the given matrix is:  11\n"
          ]
        }
      ],
      "source": [
        "import numpy as np\n",
        "u = np.array([1, 2])\n",
        "v = np.array([3, 4])\n",
        "dot_prod = np.dot(u, v)\n",
        "print('The dot product of the given matrix is: ', dot_prod)"
      ]
    },
    {
      "cell_type": "code",
      "source": [
        "import numpy as np\n",
        "u = np.array([[1, 2], [3, 4]])\n",
        "v = np.array([[5, 6], [7, 8]])\n",
        "dot_prod = np.dot(u, v)\n",
        "print('The dot product of the given matrix:', dot_prod)\n",
        "\n",
        "# Element-Wise Multiplication and Dot Product\n",
        "\n",
        "elementwise_dot = np.sum(np.multiply(u, v))\n",
        "print('Elementwise and dot product is:', elementwise_dot)"
      ],
      "metadata": {
        "colab": {
          "base_uri": "https://localhost:8080/"
        },
        "id": "pvq1TKRCg14n",
        "outputId": "87d7b185-4726-4c9b-fd7f-eebd788cc4bd"
      },
      "execution_count": 22,
      "outputs": [
        {
          "output_type": "stream",
          "name": "stdout",
          "text": [
            "The dot product of the given matrix: [[19 22]\n",
            " [43 50]]\n",
            "Elementwise and dot product is: 70\n"
          ]
        }
      ]
    },
    {
      "cell_type": "code",
      "source": [
        "import numpy as np\n",
        "u = np.array([[1, 2, 1], [3, 4, 2], [9, 6, 5]])\n",
        "v = np.array([[6, 1, 5], [8, 6, 4], [7, 5, 3]])\n",
        "dot_prod = np.dot(u, v)\n",
        "print('The dot product of the given matrix:', dot_prod)\n",
        "\n",
        "# Element-Wise Multiplication and Dot Product\n",
        "\n",
        "elementwise_dot = np.sum(np.multiply(u, v))\n",
        "print('Elementwise and dot product is: ', elementwise_dot)"
      ],
      "metadata": {
        "colab": {
          "base_uri": "https://localhost:8080/"
        },
        "id": "Bj0rUKepg5IK",
        "outputId": "a56482d0-326d-41ac-f56b-3d19e21d1f90"
      },
      "execution_count": 23,
      "outputs": [
        {
          "output_type": "stream",
          "name": "stdout",
          "text": [
            "The dot product of the given matrix: [[ 29  18  16]\n",
            " [ 64  37  37]\n",
            " [137  70  84]]\n",
            "Elementwise and dot product is:  177\n"
          ]
        }
      ]
    },
    {
      "cell_type": "markdown",
      "source": [
        "**Type 2**"
      ],
      "metadata": {
        "id": "pfxLT4tUZ1Jj"
      }
    },
    {
      "cell_type": "code",
      "source": [
        "# importing the NumPy library for numerical operations\n",
        "\n",
        "import numpy as np"
      ],
      "metadata": {
        "id": "Ee3yNjaZZ3zz"
      },
      "execution_count": 24,
      "outputs": []
    },
    {
      "cell_type": "code",
      "source": [
        "# define 1D array(vector) 'u' with elements [1, 2]\n",
        "\n",
        "u = np.array([1, 2])\n",
        "print(u)"
      ],
      "metadata": {
        "colab": {
          "base_uri": "https://localhost:8080/"
        },
        "id": "tdndIfrLaFzs",
        "outputId": "6b93e0eb-350b-4ba3-e8e3-cf76ff960f71"
      },
      "execution_count": 25,
      "outputs": [
        {
          "output_type": "stream",
          "name": "stdout",
          "text": [
            "[1 2]\n"
          ]
        }
      ]
    },
    {
      "cell_type": "code",
      "source": [
        "# define 1D array(vector) 'v' with elements [3, 4]\n",
        "\n",
        "v = np.array([3, 4])\n",
        "print(v)"
      ],
      "metadata": {
        "colab": {
          "base_uri": "https://localhost:8080/"
        },
        "id": "AK-iwTZQaXkX",
        "outputId": "0cd6becb-9f51-4a2b-9f46-0480458b9c5c"
      },
      "execution_count": 26,
      "outputs": [
        {
          "output_type": "stream",
          "name": "stdout",
          "text": [
            "[3 4]\n"
          ]
        }
      ]
    },
    {
      "cell_type": "code",
      "source": [
        "# compute the dot product of vectors 'u' and 'v'\n",
        "# Dot product formula: u.v = u[0] * v[0]\n",
        "\n",
        "dot_prod = np.dot(u, v)"
      ],
      "metadata": {
        "id": "_EKQCJtzamul"
      },
      "execution_count": 27,
      "outputs": []
    },
    {
      "cell_type": "code",
      "source": [
        "# print the resulting scalar value after completing the dot product\n",
        "\n",
        "print(dot_prod)"
      ],
      "metadata": {
        "colab": {
          "base_uri": "https://localhost:8080/"
        },
        "id": "XNe4INwebjGU",
        "outputId": "ba7dc4bb-af5f-45a1-91d5-af2b57fbfd25"
      },
      "execution_count": 28,
      "outputs": [
        {
          "output_type": "stream",
          "name": "stdout",
          "text": [
            "11\n"
          ]
        }
      ]
    },
    {
      "cell_type": "markdown",
      "source": [
        "**Type 3**"
      ],
      "metadata": {
        "id": "Kif-U5UmcUcY"
      }
    },
    {
      "cell_type": "code",
      "source": [
        "# importing the NumPy library for numerical operations\n",
        "\n",
        "import numpy as np"
      ],
      "metadata": {
        "id": "B6AjSw11cXJp"
      },
      "execution_count": 29,
      "outputs": []
    },
    {
      "cell_type": "code",
      "source": [
        "# define 2D array(vector) 'u' with elements [[1, 2], [3, 4]]\n",
        "\n",
        "u = np.array([[1, 2], [3, 4]])\n",
        "print(u)"
      ],
      "metadata": {
        "colab": {
          "base_uri": "https://localhost:8080/"
        },
        "id": "cnV7HAZLcc6f",
        "outputId": "95182a80-9ee0-4a50-f6a3-2c2843b63263"
      },
      "execution_count": 30,
      "outputs": [
        {
          "output_type": "stream",
          "name": "stdout",
          "text": [
            "[[1 2]\n",
            " [3 4]]\n"
          ]
        }
      ]
    },
    {
      "cell_type": "code",
      "source": [
        "# define 2D array(vector) 'v' with elements [[5, 6], [7, 8]]\n",
        "\n",
        "v = np.array([[5, 6], [7, 8]])\n",
        "print(v)"
      ],
      "metadata": {
        "colab": {
          "base_uri": "https://localhost:8080/"
        },
        "id": "nXCJuKqYcxbf",
        "outputId": "82bd0f10-0957-48f7-d74e-c03714ced330"
      },
      "execution_count": 31,
      "outputs": [
        {
          "output_type": "stream",
          "name": "stdout",
          "text": [
            "[[5 6]\n",
            " [7 8]]\n"
          ]
        }
      ]
    },
    {
      "cell_type": "code",
      "source": [
        "# compute the dot product of vectors 'u' and 'v'\n",
        "# Dot product formula: u.v = (v[0] * u[0] +  v[1] * u[1])\n",
        "\n",
        "dot_prod = np.dot(u, v)"
      ],
      "metadata": {
        "id": "YN74Z0Zyc-XX"
      },
      "execution_count": 32,
      "outputs": []
    },
    {
      "cell_type": "code",
      "source": [
        "# print the result after completing the dot product\n",
        "# The dot product for 2D arrays is equivalent to matrix multiplication\n",
        "print(dot_prod)"
      ],
      "metadata": {
        "colab": {
          "base_uri": "https://localhost:8080/"
        },
        "id": "3TsWUjIMdGHx",
        "outputId": "8cf68eb4-8849-4de4-d297-20adb3004e26"
      },
      "execution_count": 33,
      "outputs": [
        {
          "output_type": "stream",
          "name": "stdout",
          "text": [
            "[[19 22]\n",
            " [43 50]]\n"
          ]
        }
      ]
    },
    {
      "cell_type": "code",
      "source": [
        "# Element-Wise Multiplication and Dot Product\n",
        "\n",
        "elementwise_dot = np.sum(np.multiply(u, v))\n",
        "print('Elementwise and dot product is: ', elementwise_dot)"
      ],
      "metadata": {
        "colab": {
          "base_uri": "https://localhost:8080/"
        },
        "id": "bL16tQiEjqdU",
        "outputId": "a28e534f-991d-4723-c950-d56143f5e0bd"
      },
      "execution_count": 34,
      "outputs": [
        {
          "output_type": "stream",
          "name": "stdout",
          "text": [
            "Elementwise and dot product is:  70\n"
          ]
        }
      ]
    },
    {
      "cell_type": "markdown",
      "source": [
        "**Type 4**"
      ],
      "metadata": {
        "id": "xmT09w2YdQex"
      }
    },
    {
      "cell_type": "code",
      "source": [
        "# importing the NumPy library for numerical operations\n",
        "\n",
        "import numpy as np"
      ],
      "metadata": {
        "id": "cbrUDtAAdUo4"
      },
      "execution_count": 35,
      "outputs": []
    },
    {
      "cell_type": "code",
      "source": [
        "# define 3D array(vector) 'u' with elements [[1, 2, 1], [3, 4, 2], [9, 6, 5]]\n",
        "\n",
        "u = np.array([[1, 2, 1], [3, 4, 2], [9, 6, 5]])\n",
        "print(u)"
      ],
      "metadata": {
        "colab": {
          "base_uri": "https://localhost:8080/"
        },
        "id": "LI6BXd59db1c",
        "outputId": "99496368-7d33-4ecf-bfc4-f20dbc6204e1"
      },
      "execution_count": 36,
      "outputs": [
        {
          "output_type": "stream",
          "name": "stdout",
          "text": [
            "[[1 2 1]\n",
            " [3 4 2]\n",
            " [9 6 5]]\n"
          ]
        }
      ]
    },
    {
      "cell_type": "code",
      "source": [
        "# define 3D array(vector) 'v' with elements [[6, 1, 5], [8, 6, 4], [7, 5, 3]]\n",
        "\n",
        "v = np.array([[6, 1, 5], [8, 6, 4], [7, 5, 3]])\n",
        "print(v)"
      ],
      "metadata": {
        "colab": {
          "base_uri": "https://localhost:8080/"
        },
        "id": "McKisu5wdqYo",
        "outputId": "a675eb46-123c-48f2-eb40-339e3772260a"
      },
      "execution_count": 37,
      "outputs": [
        {
          "output_type": "stream",
          "name": "stdout",
          "text": [
            "[[6 1 5]\n",
            " [8 6 4]\n",
            " [7 5 3]]\n"
          ]
        }
      ]
    },
    {
      "cell_type": "code",
      "source": [
        "# compute the dot product of vectors 'u' and 'v'\n",
        "# Dot product formula: u.v = (u[0] * v[0]) + (u[1] * v[1]) + (u[2] * v[2])\n",
        "\n",
        "dot_prod = np.dot(u, v)"
      ],
      "metadata": {
        "id": "4htBC_2GeLia"
      },
      "execution_count": 38,
      "outputs": []
    },
    {
      "cell_type": "code",
      "source": [
        "# print the result after completing the dot product\n",
        "# The dot product for 3D arrays is equivalent to matrix multiplication\n",
        "\n",
        "print(dot_prod)"
      ],
      "metadata": {
        "colab": {
          "base_uri": "https://localhost:8080/"
        },
        "id": "_V6K47mNePd9",
        "outputId": "8d7826c9-3d61-4701-8368-29a9656a9081"
      },
      "execution_count": 39,
      "outputs": [
        {
          "output_type": "stream",
          "name": "stdout",
          "text": [
            "[[ 29  18  16]\n",
            " [ 64  37  37]\n",
            " [137  70  84]]\n"
          ]
        }
      ]
    },
    {
      "cell_type": "code",
      "source": [
        "# Element-Wise Multiplication and Dot Product\n",
        "\n",
        "elementwise_dot = np.sum(np.multiply(u, v))\n",
        "print('Elementwise and dot product is: ', elementwise_dot)"
      ],
      "metadata": {
        "colab": {
          "base_uri": "https://localhost:8080/"
        },
        "id": "x-PF-M3hjuo8",
        "outputId": "eede3750-7282-45ad-fe72-0a0af9ef03f6"
      },
      "execution_count": 40,
      "outputs": [
        {
          "output_type": "stream",
          "name": "stdout",
          "text": [
            "Elementwise and dot product is:  177\n"
          ]
        }
      ]
    }
  ]
}
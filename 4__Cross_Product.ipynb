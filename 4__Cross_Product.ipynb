{
  "nbformat": 4,
  "nbformat_minor": 0,
  "metadata": {
    "colab": {
      "provenance": []
    },
    "kernelspec": {
      "name": "python3",
      "display_name": "Python 3"
    },
    "language_info": {
      "name": "python"
    }
  },
  "cells": [
    {
      "cell_type": "markdown",
      "source": [
        "**Program 4: Cross Product**"
      ],
      "metadata": {
        "id": "3o35kxxILkY7"
      }
    },
    {
      "cell_type": "markdown",
      "source": [
        "**Type 1**"
      ],
      "metadata": {
        "id": "7rZvfw4cMgKJ"
      }
    },
    {
      "cell_type": "code",
      "execution_count": 49,
      "metadata": {
        "colab": {
          "base_uri": "https://localhost:8080/"
        },
        "id": "VGCnvN-iLWIl",
        "outputId": "02e28e6e-6622-4f2f-ad69-f95aff48740f"
      },
      "outputs": [
        {
          "output_type": "stream",
          "name": "stdout",
          "text": [
            "[0 0 1]\n"
          ]
        }
      ],
      "source": [
        "import numpy as np\n",
        "u = np.array([1, 0, 0])\n",
        "v = np.array([0, 1, 0])\n",
        "cross_prod = np.cross(u, v)\n",
        "print(cross_prod)"
      ]
    },
    {
      "cell_type": "code",
      "source": [
        "import numpy as np\n",
        "u = np.array([[1, 0, 0], [1, 0, 0], [1, 0, 0]])\n",
        "v = np.array([[1, 1, 0], [0, 0, 1], [1, 0, 1]])\n",
        "cross_prod = np.cross(u, v)\n",
        "print(cross_prod)"
      ],
      "metadata": {
        "colab": {
          "base_uri": "https://localhost:8080/"
        },
        "id": "7P7y__EsRIjm",
        "outputId": "792278af-c4ba-4646-f926-c12c9d1d1c07"
      },
      "execution_count": 65,
      "outputs": [
        {
          "output_type": "stream",
          "name": "stdout",
          "text": [
            "[[ 0  0  1]\n",
            " [ 0 -1  0]\n",
            " [ 0 -1  0]]\n"
          ]
        }
      ]
    },
    {
      "cell_type": "code",
      "source": [
        "import numpy as np\n",
        "u = np.array([[[1, 0, 0], [1, 0, 1], [1, 1, 0]], [[1, 1, 1], [1, 1, 1], [1, 1, 1]]])\n",
        "v = np.array([[[1, 1, 0], [1, 1, 1], [1, 1, 0]], [[1, 1, 1], [1, 1, 0], [1, 1, 1]]])\n",
        "cross_prod = np.cross(u, v)\n",
        "print(cross_prod)"
      ],
      "metadata": {
        "colab": {
          "base_uri": "https://localhost:8080/"
        },
        "id": "jxaxcurJRJzW",
        "outputId": "6efafcfd-f3b9-4f5e-af01-10127cda559d"
      },
      "execution_count": 66,
      "outputs": [
        {
          "output_type": "stream",
          "name": "stdout",
          "text": [
            "[[[ 0  0  1]\n",
            "  [-1  0  1]\n",
            "  [ 0  0  0]]\n",
            "\n",
            " [[ 0  0  0]\n",
            "  [-1  1  0]\n",
            "  [ 0  0  0]]]\n"
          ]
        }
      ]
    },
    {
      "cell_type": "markdown",
      "source": [
        "**Type 2**"
      ],
      "metadata": {
        "id": "ZSZ_AYvBMjNd"
      }
    },
    {
      "cell_type": "code",
      "source": [
        "# importing the numPy library for numerical computations\n",
        "\n",
        "import numpy as np"
      ],
      "metadata": {
        "id": "nPpFTlEeMmEi"
      },
      "execution_count": 50,
      "outputs": []
    },
    {
      "cell_type": "code",
      "source": [
        "# define 1D array(vector) 'u' with elements [1, 0, 0] representing a 3D vector\n",
        "\n",
        "u = np.array([1, 0, 0])\n",
        "print(u)"
      ],
      "metadata": {
        "colab": {
          "base_uri": "https://localhost:8080/"
        },
        "id": "ytqcHHXVMyix",
        "outputId": "266c527e-0895-4951-8f9d-9f9c7b6c6793"
      },
      "execution_count": 51,
      "outputs": [
        {
          "output_type": "stream",
          "name": "stdout",
          "text": [
            "[1 0 0]\n"
          ]
        }
      ]
    },
    {
      "cell_type": "code",
      "source": [
        "# define 1D array(vector) 'v' with elements [0, 1, 0] representing a 3D vector\n",
        "\n",
        "v = np.array([0, 1, 0])\n",
        "print(v)"
      ],
      "metadata": {
        "colab": {
          "base_uri": "https://localhost:8080/"
        },
        "id": "eel10u82NJWP",
        "outputId": "7f96e452-d46a-48bd-fd63-64a018d7645e"
      },
      "execution_count": 52,
      "outputs": [
        {
          "output_type": "stream",
          "name": "stdout",
          "text": [
            "[0 1 0]\n"
          ]
        }
      ]
    },
    {
      "cell_type": "code",
      "source": [
        "# compute the cross product of 'u' and 'v'\n",
        "# Cross Product in 3D space results in a vector perpendicular to both 'u' and 'v'\n",
        "\n",
        "cross_prod = np.cross(u, v)"
      ],
      "metadata": {
        "id": "kb2te3AFNRtx"
      },
      "execution_count": 53,
      "outputs": []
    },
    {
      "cell_type": "code",
      "source": [
        "# print the result of the vector after performing the cross product\n",
        "\n",
        "print(cross_prod)"
      ],
      "metadata": {
        "colab": {
          "base_uri": "https://localhost:8080/"
        },
        "id": "FYT63XY1Nplr",
        "outputId": "c6fdee38-62e4-4cb1-e4fc-548bd5a388f8"
      },
      "execution_count": 54,
      "outputs": [
        {
          "output_type": "stream",
          "name": "stdout",
          "text": [
            "[0 0 1]\n"
          ]
        }
      ]
    },
    {
      "cell_type": "markdown",
      "source": [
        "**Type 3**"
      ],
      "metadata": {
        "id": "LlpTWUgFN5gu"
      }
    },
    {
      "cell_type": "code",
      "source": [
        "# importing the numPy library for numerical computations\n",
        "\n",
        "import numpy as np"
      ],
      "metadata": {
        "id": "S8-p7NGgN4Pm"
      },
      "execution_count": 55,
      "outputs": []
    },
    {
      "cell_type": "code",
      "source": [
        "# define 2D array(vector) 'u' with elements [[1, 0, 0], [1, 0, 0], [1, 0, 0]] representing a 3D vector\n",
        "\n",
        "u = np.array([[1, 0, 0], [1, 0, 0], [1, 0, 0]])\n",
        "print(u)"
      ],
      "metadata": {
        "colab": {
          "base_uri": "https://localhost:8080/"
        },
        "id": "iLWGGTIpOA4R",
        "outputId": "5c8cf295-07f4-430f-c715-e5cd5daef9a8"
      },
      "execution_count": 56,
      "outputs": [
        {
          "output_type": "stream",
          "name": "stdout",
          "text": [
            "[[1 0 0]\n",
            " [1 0 0]\n",
            " [1 0 0]]\n"
          ]
        }
      ]
    },
    {
      "cell_type": "code",
      "source": [
        "# define 2D array(vector) 'v' with elements [[1, 1, 0], [0, 0, 1], [1, 0, 1]] representing a 3D vector\n",
        "\n",
        "v = np.array([[1, 1, 0], [0, 0, 1], [1, 0, 1]])\n",
        "print(v)"
      ],
      "metadata": {
        "colab": {
          "base_uri": "https://localhost:8080/"
        },
        "id": "3LhbIicLO8JX",
        "outputId": "fad11339-e70d-4043-faf2-cca2502d1134"
      },
      "execution_count": 57,
      "outputs": [
        {
          "output_type": "stream",
          "name": "stdout",
          "text": [
            "[[1 1 0]\n",
            " [0 0 1]\n",
            " [1 0 1]]\n"
          ]
        }
      ]
    },
    {
      "cell_type": "code",
      "source": [
        "# compute the cross product of 'u' and 'v'\n",
        "# Cross Product in 3D space results in a vector perpendicular to both 'u' and 'v'\n",
        "\n",
        "cross_prod = np.cross(u, v)"
      ],
      "metadata": {
        "id": "ttYeNRCJPLzf"
      },
      "execution_count": 58,
      "outputs": []
    },
    {
      "cell_type": "code",
      "source": [
        "# print the result of the vector after performing the cross product\n",
        "\n",
        "print(cross_prod)"
      ],
      "metadata": {
        "colab": {
          "base_uri": "https://localhost:8080/"
        },
        "id": "aNbaadFSPO_-",
        "outputId": "cb8b5857-edc4-4bf5-bde2-1cbc69877bb2"
      },
      "execution_count": 59,
      "outputs": [
        {
          "output_type": "stream",
          "name": "stdout",
          "text": [
            "[[ 0  0  1]\n",
            " [ 0 -1  0]\n",
            " [ 0 -1  0]]\n"
          ]
        }
      ]
    },
    {
      "cell_type": "markdown",
      "source": [
        "**Type 4**"
      ],
      "metadata": {
        "id": "TceDM2ExPSD2"
      }
    },
    {
      "cell_type": "code",
      "source": [
        "# importing the numPy library for numerical computations\n",
        "\n",
        "import numpy as np"
      ],
      "metadata": {
        "id": "pl65OsgVPVsH"
      },
      "execution_count": 60,
      "outputs": []
    },
    {
      "cell_type": "code",
      "source": [
        "# define 3D array(vector) 'u' with elements [[[1, 0, 0], [1, 0, 1], [1, 1, 0]], [[1, 1, 1], [1, 1, 1], [1, 1, 1]]] representing a 3D vector\n",
        "\n",
        "u = np.array([[[1, 0, 0], [1, 0, 1], [1, 1, 0]], [[1, 1, 1], [1, 1, 1], [1, 1, 1]]])\n",
        "print(u)"
      ],
      "metadata": {
        "colab": {
          "base_uri": "https://localhost:8080/"
        },
        "id": "CQX8fueEPgPZ",
        "outputId": "a639a3ec-828b-4089-d0de-eaeb7260a4d6"
      },
      "execution_count": 61,
      "outputs": [
        {
          "output_type": "stream",
          "name": "stdout",
          "text": [
            "[[[1 0 0]\n",
            "  [1 0 1]\n",
            "  [1 1 0]]\n",
            "\n",
            " [[1 1 1]\n",
            "  [1 1 1]\n",
            "  [1 1 1]]]\n"
          ]
        }
      ]
    },
    {
      "cell_type": "code",
      "source": [
        "# define 3D array(vector) 'v' with elements [[[1, 1, 0], [1, 1, 1], [1, 1, 0]], [[1, 1, 1], [1, 1, 0], [1, 1, 1]]] representing a 3D vector\n",
        "\n",
        "v = np.array([[[1, 1, 0], [1, 1, 1], [1, 1, 0]], [[1, 1, 1], [1, 1, 0], [1, 1, 1]]])\n",
        "print(v)"
      ],
      "metadata": {
        "colab": {
          "base_uri": "https://localhost:8080/"
        },
        "id": "CJISO211P6xo",
        "outputId": "b5377c68-9e58-4a09-8351-1b3da74202a5"
      },
      "execution_count": 62,
      "outputs": [
        {
          "output_type": "stream",
          "name": "stdout",
          "text": [
            "[[[1 1 0]\n",
            "  [1 1 1]\n",
            "  [1 1 0]]\n",
            "\n",
            " [[1 1 1]\n",
            "  [1 1 0]\n",
            "  [1 1 1]]]\n"
          ]
        }
      ]
    },
    {
      "cell_type": "code",
      "source": [
        "# compute the cross product of 'u' and 'v'\n",
        "# Cross Product in 3D space results in a vector perpendicular to both 'u' and 'v'\n",
        "\n",
        "cross_prod = np.cross(u, v)"
      ],
      "metadata": {
        "id": "lNTSQ67HQCDH"
      },
      "execution_count": 63,
      "outputs": []
    },
    {
      "cell_type": "code",
      "source": [
        "# print the result of the vector after performing the cross product\n",
        "\n",
        "print(cross_prod)"
      ],
      "metadata": {
        "colab": {
          "base_uri": "https://localhost:8080/"
        },
        "id": "J8mmi5i_QFzP",
        "outputId": "ae8088f2-7f5d-4e81-a341-75a37eb2deb3"
      },
      "execution_count": 64,
      "outputs": [
        {
          "output_type": "stream",
          "name": "stdout",
          "text": [
            "[[[ 0  0  1]\n",
            "  [-1  0  1]\n",
            "  [ 0  0  0]]\n",
            "\n",
            " [[ 0  0  0]\n",
            "  [-1  1  0]\n",
            "  [ 0  0  0]]]\n"
          ]
        }
      ]
    }
  ]
}
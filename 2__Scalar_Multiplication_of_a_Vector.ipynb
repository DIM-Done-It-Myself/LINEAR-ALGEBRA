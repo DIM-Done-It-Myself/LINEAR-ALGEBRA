{
  "nbformat": 4,
  "nbformat_minor": 0,
  "metadata": {
    "colab": {
      "provenance": []
    },
    "kernelspec": {
      "name": "python3",
      "display_name": "Python 3"
    },
    "language_info": {
      "name": "python"
    }
  },
  "cells": [
    {
      "cell_type": "markdown",
      "source": [
        "**Program 2: Scalar Multiplication of a Vector**"
      ],
      "metadata": {
        "id": "FyFKjtxXVps7"
      }
    },
    {
      "cell_type": "markdown",
      "source": [
        "**Type 1**"
      ],
      "metadata": {
        "id": "QTId5cY9Whzu"
      }
    },
    {
      "cell_type": "code",
      "execution_count": 2,
      "metadata": {
        "colab": {
          "base_uri": "https://localhost:8080/"
        },
        "id": "PoSqzF2kVMY-",
        "outputId": "445db5cd-a2a0-425e-fb33-1cf45bf31517"
      },
      "outputs": [
        {
          "output_type": "stream",
          "name": "stdout",
          "text": [
            "[ 6 -3]\n"
          ]
        }
      ],
      "source": [
        "import numpy as np\n",
        "alpha = 3\n",
        "v = np.array([2, -1])\n",
        "scal_mul = alpha * v\n",
        "print(scal_mul)"
      ]
    },
    {
      "cell_type": "markdown",
      "source": [
        "**Type 2**"
      ],
      "metadata": {
        "id": "iESlPyxKWkl6"
      }
    },
    {
      "cell_type": "code",
      "source": [
        "# importing the numPy for numerical computations\n",
        "\n",
        "import numpy as np"
      ],
      "metadata": {
        "id": "kgUhT93-WgCZ"
      },
      "execution_count": null,
      "outputs": []
    },
    {
      "cell_type": "code",
      "source": [
        "# define the scalar value 'alpha'\n",
        "alpha = 3\n",
        "print(alpha)"
      ],
      "metadata": {
        "colab": {
          "base_uri": "https://localhost:8080/"
        },
        "id": "UhUvQRRtXHQv",
        "outputId": "b2740a9c-99d8-424b-c072-3b727305f339"
      },
      "execution_count": 3,
      "outputs": [
        {
          "output_type": "stream",
          "name": "stdout",
          "text": [
            "3\n"
          ]
        }
      ]
    },
    {
      "cell_type": "code",
      "source": [
        "# define the 1D array 'u' with the elements [2, -1]\n",
        "u = np.array([2, -1])\n",
        "print(u)"
      ],
      "metadata": {
        "colab": {
          "base_uri": "https://localhost:8080/"
        },
        "id": "VBEcdErZXL8d",
        "outputId": "cead2653-ad7b-4fe0-d66c-4382a4964156"
      },
      "execution_count": 4,
      "outputs": [
        {
          "output_type": "stream",
          "name": "stdout",
          "text": [
            "[ 2 -1]\n"
          ]
        }
      ]
    },
    {
      "cell_type": "code",
      "source": [
        "# Perform the scalar multiplication of 'alpha' and 'u'\n",
        "scal_mul = alpha * u"
      ],
      "metadata": {
        "id": "44RgnuxnXR-f"
      },
      "execution_count": 5,
      "outputs": []
    },
    {
      "cell_type": "code",
      "source": [
        "# Print the resulting vector after scalar multiplication\n",
        "print(scal_mul)"
      ],
      "metadata": {
        "colab": {
          "base_uri": "https://localhost:8080/"
        },
        "id": "xhTfQNBDXf5M",
        "outputId": "6c17dac8-3d16-40ee-8cc8-affba828e9c2"
      },
      "execution_count": 6,
      "outputs": [
        {
          "output_type": "stream",
          "name": "stdout",
          "text": [
            "[ 6 -3]\n"
          ]
        }
      ]
    }
  ]
}
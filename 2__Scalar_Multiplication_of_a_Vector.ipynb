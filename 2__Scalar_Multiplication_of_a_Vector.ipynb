{
  "nbformat": 4,
  "nbformat_minor": 0,
  "metadata": {
    "colab": {
      "provenance": []
    },
    "kernelspec": {
      "name": "python3",
      "display_name": "Python 3"
    },
    "language_info": {
      "name": "python"
    }
  },
  "cells": [
    {
      "cell_type": "markdown",
      "source": [
        "**Program 2: Scalar Multiplication of a Vector**"
      ],
      "metadata": {
        "id": "FyFKjtxXVps7"
      }
    },
    {
      "cell_type": "markdown",
      "source": [
        "**Type 1**"
      ],
      "metadata": {
        "id": "QTId5cY9Whzu"
      }
    },
    {
      "cell_type": "code",
      "execution_count": 71,
      "metadata": {
        "colab": {
          "base_uri": "https://localhost:8080/"
        },
        "id": "PoSqzF2kVMY-",
        "outputId": "992f92d2-0b31-4773-fd17-8750fd29a870"
      },
      "outputs": [
        {
          "output_type": "stream",
          "name": "stdout",
          "text": [
            "[ 6 -3]\n"
          ]
        }
      ],
      "source": [
        "import numpy as np\n",
        "alpha = 3\n",
        "v = np.array([2, -1])\n",
        "scal_mul = alpha * v\n",
        "print(scal_mul)"
      ]
    },
    {
      "cell_type": "code",
      "source": [
        "import numpy as np\n",
        "alpha = 3\n",
        "v = np.array([[2, -1], [3, 4]])\n",
        "scal_mul = alpha * v\n",
        "print(scal_mul)"
      ],
      "metadata": {
        "colab": {
          "base_uri": "https://localhost:8080/"
        },
        "id": "njEPjURinRnR",
        "outputId": "50d72a06-6290-415a-d9c1-d204bb3cb3d1"
      },
      "execution_count": 72,
      "outputs": [
        {
          "output_type": "stream",
          "name": "stdout",
          "text": [
            "[[ 6 -3]\n",
            " [ 9 12]]\n"
          ]
        }
      ]
    },
    {
      "cell_type": "code",
      "source": [
        "import numpy as np\n",
        "alpha = 3\n",
        "v = np.array([[2, -1, 5, 7], [3, 4, 8, 2]])\n",
        "scal_mul = alpha * v\n",
        "print(scal_mul)"
      ],
      "metadata": {
        "colab": {
          "base_uri": "https://localhost:8080/"
        },
        "id": "NZgj1L17nSY5",
        "outputId": "08a4e5b7-7a90-43e2-b77d-5a3fb4bf688b"
      },
      "execution_count": 73,
      "outputs": [
        {
          "output_type": "stream",
          "name": "stdout",
          "text": [
            "[[ 6 -3 15 21]\n",
            " [ 9 12 24  6]]\n"
          ]
        }
      ]
    },
    {
      "cell_type": "markdown",
      "source": [
        "**Type 2**"
      ],
      "metadata": {
        "id": "iESlPyxKWkl6"
      }
    },
    {
      "cell_type": "code",
      "source": [
        "# importing the numPy for numerical computations\n",
        "\n",
        "import numpy as np"
      ],
      "metadata": {
        "id": "kgUhT93-WgCZ"
      },
      "execution_count": 74,
      "outputs": []
    },
    {
      "cell_type": "code",
      "source": [
        "# define the scalar value 'alpha'\n",
        "\n",
        "alpha = 3\n",
        "print(alpha)"
      ],
      "metadata": {
        "colab": {
          "base_uri": "https://localhost:8080/"
        },
        "id": "UhUvQRRtXHQv",
        "outputId": "d6f6bf58-7c74-49b9-e7c9-13f837ffacee"
      },
      "execution_count": 75,
      "outputs": [
        {
          "output_type": "stream",
          "name": "stdout",
          "text": [
            "3\n"
          ]
        }
      ]
    },
    {
      "cell_type": "code",
      "source": [
        "# define the 1D array 'u' with the elements [2, -1]\n",
        "\n",
        "u = np.array([2, -1])\n",
        "print(u)"
      ],
      "metadata": {
        "colab": {
          "base_uri": "https://localhost:8080/"
        },
        "id": "VBEcdErZXL8d",
        "outputId": "97f33fb7-5e40-4341-be41-9aa7fae4e18f"
      },
      "execution_count": 76,
      "outputs": [
        {
          "output_type": "stream",
          "name": "stdout",
          "text": [
            "[ 2 -1]\n"
          ]
        }
      ]
    },
    {
      "cell_type": "code",
      "source": [
        "# Perform the scalar multiplication of 'alpha' and 'u'\n",
        "\n",
        "scal_mul = alpha * u"
      ],
      "metadata": {
        "id": "44RgnuxnXR-f"
      },
      "execution_count": 77,
      "outputs": []
    },
    {
      "cell_type": "code",
      "source": [
        "# Print the resulting vector after scalar multiplication\n",
        "\n",
        "print(scal_mul)"
      ],
      "metadata": {
        "colab": {
          "base_uri": "https://localhost:8080/"
        },
        "id": "xhTfQNBDXf5M",
        "outputId": "6530003b-6060-4ea9-d052-f332384bfaa3"
      },
      "execution_count": 78,
      "outputs": [
        {
          "output_type": "stream",
          "name": "stdout",
          "text": [
            "[ 6 -3]\n"
          ]
        }
      ]
    },
    {
      "cell_type": "markdown",
      "source": [
        "**Type 3**"
      ],
      "metadata": {
        "id": "8mAXeNIUkewv"
      }
    },
    {
      "cell_type": "code",
      "source": [
        "# importing the numPy for numerical computations\n",
        "\n",
        "import numpy as np"
      ],
      "metadata": {
        "id": "Lw-5QgD7kg5O"
      },
      "execution_count": 79,
      "outputs": []
    },
    {
      "cell_type": "code",
      "source": [
        "# define the scalar value 'alpha'\n",
        "\n",
        "alpha = 3\n",
        "print(alpha)"
      ],
      "metadata": {
        "colab": {
          "base_uri": "https://localhost:8080/"
        },
        "id": "7RphmSRiklFv",
        "outputId": "dece38d2-5f9b-4d05-84fb-34c2579a2c46"
      },
      "execution_count": 80,
      "outputs": [
        {
          "output_type": "stream",
          "name": "stdout",
          "text": [
            "3\n"
          ]
        }
      ]
    },
    {
      "cell_type": "code",
      "source": [
        "# define the 2D array 'u' with the elements [[2, -1], [3, 4]]\n",
        "\n",
        "u = np.array([[2, -1], [3, 4]])\n",
        "print(u)"
      ],
      "metadata": {
        "colab": {
          "base_uri": "https://localhost:8080/"
        },
        "id": "D6BIiK3xkoYe",
        "outputId": "8bb1dbef-2671-4ba2-f1e9-3f1ba12c0f47"
      },
      "execution_count": 81,
      "outputs": [
        {
          "output_type": "stream",
          "name": "stdout",
          "text": [
            "[[ 2 -1]\n",
            " [ 3  4]]\n"
          ]
        }
      ]
    },
    {
      "cell_type": "code",
      "source": [
        "# Perform the scalar multiplication of 'alpha' and 'u'\n",
        "\n",
        "scal_mul = alpha * u"
      ],
      "metadata": {
        "id": "VTcleeI3k1DB"
      },
      "execution_count": 82,
      "outputs": []
    },
    {
      "cell_type": "code",
      "source": [
        "# Print the resulting vector after scalar multiplication\n",
        "\n",
        "print(scal_mul)"
      ],
      "metadata": {
        "colab": {
          "base_uri": "https://localhost:8080/"
        },
        "id": "jMQiAHjkk3eQ",
        "outputId": "8815aeef-4531-4dbe-9934-3ff30976a0f7"
      },
      "execution_count": 83,
      "outputs": [
        {
          "output_type": "stream",
          "name": "stdout",
          "text": [
            "[[ 6 -3]\n",
            " [ 9 12]]\n"
          ]
        }
      ]
    },
    {
      "cell_type": "markdown",
      "source": [
        "**Type 4**"
      ],
      "metadata": {
        "id": "eS8Oz2pHmFGx"
      }
    },
    {
      "cell_type": "code",
      "source": [
        "# importing the numPy for numerical computations\n",
        "\n",
        "import numpy as np"
      ],
      "metadata": {
        "id": "dIGDr4ETmHkh"
      },
      "execution_count": 84,
      "outputs": []
    },
    {
      "cell_type": "code",
      "source": [
        "# define the scalar value 'alpha'\n",
        "\n",
        "alpha = 3\n",
        "print(alpha)"
      ],
      "metadata": {
        "colab": {
          "base_uri": "https://localhost:8080/"
        },
        "id": "O3rbNtkQmL9Q",
        "outputId": "32c15c31-fc43-4503-fd61-8277b5718636"
      },
      "execution_count": 85,
      "outputs": [
        {
          "output_type": "stream",
          "name": "stdout",
          "text": [
            "3\n"
          ]
        }
      ]
    },
    {
      "cell_type": "code",
      "source": [
        "# define the 3D array 'u' with the elements [[2, -1, 5, 7], [3, 4, 8, 2]]\n",
        "\n",
        "u = np.array([[2, -1, 5, 7], [3, 4, 8, 2]])\n",
        "print(u)"
      ],
      "metadata": {
        "colab": {
          "base_uri": "https://localhost:8080/"
        },
        "id": "F_1n7qrnmOMK",
        "outputId": "f52e68fa-b8df-4a57-9ba7-c0a2bc319b5e"
      },
      "execution_count": 86,
      "outputs": [
        {
          "output_type": "stream",
          "name": "stdout",
          "text": [
            "[[ 2 -1  5  7]\n",
            " [ 3  4  8  2]]\n"
          ]
        }
      ]
    },
    {
      "cell_type": "code",
      "source": [
        "# Perform the scalar multiplication of 'alpha' and 'u'\n",
        "\n",
        "scal_mul = alpha * u"
      ],
      "metadata": {
        "id": "JYBb9UZXmQVC"
      },
      "execution_count": 87,
      "outputs": []
    },
    {
      "cell_type": "code",
      "source": [
        "# Print the resulting vector after scalar multiplication\n",
        "\n",
        "print(scal_mul)"
      ],
      "metadata": {
        "colab": {
          "base_uri": "https://localhost:8080/"
        },
        "id": "hSU97kT0mSZi",
        "outputId": "2061f385-36ff-4e83-bdbd-f5cd907f6d33"
      },
      "execution_count": 88,
      "outputs": [
        {
          "output_type": "stream",
          "name": "stdout",
          "text": [
            "[[ 6 -3 15 21]\n",
            " [ 9 12 24  6]]\n"
          ]
        }
      ]
    }
  ]
}
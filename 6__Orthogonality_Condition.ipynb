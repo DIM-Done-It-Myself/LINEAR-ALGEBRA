{
  "nbformat": 4,
  "nbformat_minor": 0,
  "metadata": {
    "colab": {
      "provenance": []
    },
    "kernelspec": {
      "name": "python3",
      "display_name": "Python 3"
    },
    "language_info": {
      "name": "python"
    }
  },
  "cells": [
    {
      "cell_type": "markdown",
      "source": [
        "**Program 6: Orthogonality Condition**"
      ],
      "metadata": {
        "id": "3FyFAsiv1zKZ"
      }
    },
    {
      "cell_type": "markdown",
      "source": [
        "**Implementation**"
      ],
      "metadata": {
        "id": "9smAzkH92c0e"
      }
    },
    {
      "cell_type": "code",
      "execution_count": null,
      "metadata": {
        "colab": {
          "base_uri": "https://localhost:8080/"
        },
        "id": "11N_bJTn1u7E",
        "outputId": "dfa05cf3-5e04-49a9-ca0a-ca13e7543877"
      },
      "outputs": [
        {
          "output_type": "stream",
          "name": "stdout",
          "text": [
            "11\n",
            "False\n"
          ]
        }
      ],
      "source": [
        "import numpy as np\n",
        "u = np.array([1, 2])\n",
        "v = np.array([3, 4])\n",
        "dot_prod = np.dot(u, v)\n",
        "print(dot_prod)\n",
        "is_orthogonal = dot_prod == 0\n",
        "print(is_orthogonal)"
      ]
    },
    {
      "cell_type": "markdown",
      "source": [
        "**Code Snippet**"
      ],
      "metadata": {
        "id": "cZOwhrPv2kKp"
      }
    },
    {
      "cell_type": "code",
      "source": [
        "# importing numPy as library for numerical computations\n",
        "\n",
        "import numpy as np"
      ],
      "metadata": {
        "id": "ECyCffct2iRA"
      },
      "execution_count": null,
      "outputs": []
    },
    {
      "cell_type": "code",
      "source": [
        "# define 1D array(vector) 'u_vect_1D' with elements [1, 2]\n",
        "\n",
        "u_vect_1D = np.array([1, 2])\n",
        "print(u_vect_1D)"
      ],
      "metadata": {
        "colab": {
          "base_uri": "https://localhost:8080/"
        },
        "id": "QTY9QYoY2P_o",
        "outputId": "78c62139-cdde-4a3f-90a2-62e8cced62e8"
      },
      "execution_count": null,
      "outputs": [
        {
          "output_type": "stream",
          "name": "stdout",
          "text": [
            "[1 2]\n"
          ]
        }
      ]
    },
    {
      "cell_type": "code",
      "source": [
        "# define 1D array(vector) 'v_vect_1D' with elements [3, 4]\n",
        "\n",
        "v_vect_1D = np.array([3, 4])\n",
        "print(v_vect_1D)"
      ],
      "metadata": {
        "colab": {
          "base_uri": "https://localhost:8080/"
        },
        "id": "jPkIVjEq3NjZ",
        "outputId": "109ef1d7-6142-4d0f-ba44-c754cded609c"
      },
      "execution_count": null,
      "outputs": [
        {
          "output_type": "stream",
          "name": "stdout",
          "text": [
            "[3 4]\n"
          ]
        }
      ]
    },
    {
      "cell_type": "code",
      "source": [
        "# compute the dot product of 'u_vect_1D' and 'v_vect_1D'\n",
        "\n",
        "dot_prod = np.dot(u_vect_1D, v_vect_1D)"
      ],
      "metadata": {
        "id": "vVUWOHA63WEh"
      },
      "execution_count": null,
      "outputs": []
    },
    {
      "cell_type": "code",
      "source": [
        "# check if the vectors 'u_vect_1D' and 'v_vect_1D' are orthogonal\n",
        "# Two vectors are orthogonal if their dot product is zero\n",
        "\n",
        "is_orthogonal = dot_prod == 0\n",
        "print(is_orthogonal)"
      ],
      "metadata": {
        "colab": {
          "base_uri": "https://localhost:8080/"
        },
        "id": "0HZQOeNx3sD6",
        "outputId": "25d7d504-001c-46fa-b211-38b79e1d2fef"
      },
      "execution_count": null,
      "outputs": [
        {
          "output_type": "stream",
          "name": "stdout",
          "text": [
            "False\n"
          ]
        }
      ]
    },
    {
      "cell_type": "code",
      "source": [
        "# printing the resulting dot product value\n",
        "\n",
        "print(dot_prod)"
      ],
      "metadata": {
        "colab": {
          "base_uri": "https://localhost:8080/"
        },
        "id": "mYLGUalm4DEA",
        "outputId": "668fd190-f3ea-4e91-8a8b-765a4a6dec29"
      },
      "execution_count": null,
      "outputs": [
        {
          "output_type": "stream",
          "name": "stdout",
          "text": [
            "11\n"
          ]
        }
      ]
    }
  ]
}